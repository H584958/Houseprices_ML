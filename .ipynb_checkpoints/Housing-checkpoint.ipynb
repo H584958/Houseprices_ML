{
 "cells": [
  {
   "cell_type": "markdown",
   "id": "bb9b59f3",
   "metadata": {},
   "source": [
    "# Assigment in ML\n",
    "In this assignment we will analyze housing prices in california from 1990. We will then create a machine learning system that will determine the prices for houses. The data provided for each house is devided into population, median housing price, median income, etc."
   ]
  },
  {
   "cell_type": "markdown",
   "id": "642e95b3",
   "metadata": {},
   "source": [
    "# Setup\n",
    "Import and read the dataset."
   ]
  },
  {
   "cell_type": "code",
   "execution_count": 1,
   "id": "841fe0a0",
   "metadata": {},
   "outputs": [],
   "source": [
    "%matplotlib inline\n",
    "import numpy as np \n",
    "import pandas as pd\n",
    "import matplotlib.pyplot as plt"
   ]
  },
  {
   "cell_type": "code",
   "execution_count": 2,
   "id": "2672f5d9",
   "metadata": {},
   "outputs": [
    {
     "name": "stdout",
     "output_type": "stream",
     "text": [
      "['.DS_Store', 'test.csv', 'train.csv', '.ipynb_checkpoints', 'sample_submission.csv']\n"
     ]
    }
   ],
   "source": [
    "import os\n",
    "print(os.listdir(\"data\"))"
   ]
  },
  {
   "cell_type": "code",
   "execution_count": 3,
   "id": "3e5b2d95",
   "metadata": {},
   "outputs": [],
   "source": [
    "train = pd.read_csv('data/train.csv')\n",
    "test = pd.read_csv('data/test.csv')"
   ]
  },
  {
   "cell_type": "markdown",
   "id": "dc9f7c40",
   "metadata": {},
   "source": [
    "# Understanding the data"
   ]
  },
  {
   "cell_type": "code",
   "execution_count": 4,
   "id": "cae5f2a6",
   "metadata": {},
   "outputs": [
    {
     "data": {
      "text/html": [
       "<div>\n",
       "<style scoped>\n",
       "    .dataframe tbody tr th:only-of-type {\n",
       "        vertical-align: middle;\n",
       "    }\n",
       "\n",
       "    .dataframe tbody tr th {\n",
       "        vertical-align: top;\n",
       "    }\n",
       "\n",
       "    .dataframe thead th {\n",
       "        text-align: right;\n",
       "    }\n",
       "</style>\n",
       "<table border=\"1\" class=\"dataframe\">\n",
       "  <thead>\n",
       "    <tr style=\"text-align: right;\">\n",
       "      <th></th>\n",
       "      <th>longitude</th>\n",
       "      <th>latitude</th>\n",
       "      <th>housing_median_age</th>\n",
       "      <th>total_rooms</th>\n",
       "      <th>total_bedrooms</th>\n",
       "      <th>population</th>\n",
       "      <th>households</th>\n",
       "      <th>median_income</th>\n",
       "      <th>median_house_value</th>\n",
       "      <th>ocean_proximity</th>\n",
       "    </tr>\n",
       "  </thead>\n",
       "  <tbody>\n",
       "    <tr>\n",
       "      <th>0</th>\n",
       "      <td>-122.13</td>\n",
       "      <td>37.67</td>\n",
       "      <td>40.0</td>\n",
       "      <td>1748.0</td>\n",
       "      <td>318.0</td>\n",
       "      <td>914.0</td>\n",
       "      <td>317.0</td>\n",
       "      <td>3.8676</td>\n",
       "      <td>184000.0</td>\n",
       "      <td>NEAR BAY</td>\n",
       "    </tr>\n",
       "    <tr>\n",
       "      <th>1</th>\n",
       "      <td>-120.98</td>\n",
       "      <td>37.65</td>\n",
       "      <td>40.0</td>\n",
       "      <td>422.0</td>\n",
       "      <td>63.0</td>\n",
       "      <td>158.0</td>\n",
       "      <td>63.0</td>\n",
       "      <td>7.3841</td>\n",
       "      <td>172200.0</td>\n",
       "      <td>INLAND</td>\n",
       "    </tr>\n",
       "    <tr>\n",
       "      <th>2</th>\n",
       "      <td>-118.37</td>\n",
       "      <td>33.87</td>\n",
       "      <td>23.0</td>\n",
       "      <td>1829.0</td>\n",
       "      <td>331.0</td>\n",
       "      <td>891.0</td>\n",
       "      <td>356.0</td>\n",
       "      <td>6.5755</td>\n",
       "      <td>359900.0</td>\n",
       "      <td>&lt;1H OCEAN</td>\n",
       "    </tr>\n",
       "    <tr>\n",
       "      <th>3</th>\n",
       "      <td>-117.89</td>\n",
       "      <td>33.90</td>\n",
       "      <td>23.0</td>\n",
       "      <td>1533.0</td>\n",
       "      <td>226.0</td>\n",
       "      <td>693.0</td>\n",
       "      <td>230.0</td>\n",
       "      <td>7.8980</td>\n",
       "      <td>258200.0</td>\n",
       "      <td>&lt;1H OCEAN</td>\n",
       "    </tr>\n",
       "    <tr>\n",
       "      <th>4</th>\n",
       "      <td>-122.40</td>\n",
       "      <td>37.76</td>\n",
       "      <td>52.0</td>\n",
       "      <td>1529.0</td>\n",
       "      <td>385.0</td>\n",
       "      <td>1347.0</td>\n",
       "      <td>348.0</td>\n",
       "      <td>2.9312</td>\n",
       "      <td>239100.0</td>\n",
       "      <td>NEAR BAY</td>\n",
       "    </tr>\n",
       "  </tbody>\n",
       "</table>\n",
       "</div>"
      ],
      "text/plain": [
       "   longitude  latitude  housing_median_age  total_rooms  total_bedrooms  \\\n",
       "0    -122.13     37.67                40.0       1748.0           318.0   \n",
       "1    -120.98     37.65                40.0        422.0            63.0   \n",
       "2    -118.37     33.87                23.0       1829.0           331.0   \n",
       "3    -117.89     33.90                23.0       1533.0           226.0   \n",
       "4    -122.40     37.76                52.0       1529.0           385.0   \n",
       "\n",
       "   population  households  median_income  median_house_value ocean_proximity  \n",
       "0       914.0       317.0         3.8676            184000.0        NEAR BAY  \n",
       "1       158.0        63.0         7.3841            172200.0          INLAND  \n",
       "2       891.0       356.0         6.5755            359900.0       <1H OCEAN  \n",
       "3       693.0       230.0         7.8980            258200.0       <1H OCEAN  \n",
       "4      1347.0       348.0         2.9312            239100.0        NEAR BAY  "
      ]
     },
     "execution_count": 4,
     "metadata": {},
     "output_type": "execute_result"
    }
   ],
   "source": [
    "train.head()"
   ]
  },
  {
   "cell_type": "code",
   "execution_count": 5,
   "id": "a78bbdbf",
   "metadata": {},
   "outputs": [
    {
     "data": {
      "text/html": [
       "<div>\n",
       "<style scoped>\n",
       "    .dataframe tbody tr th:only-of-type {\n",
       "        vertical-align: middle;\n",
       "    }\n",
       "\n",
       "    .dataframe tbody tr th {\n",
       "        vertical-align: top;\n",
       "    }\n",
       "\n",
       "    .dataframe thead th {\n",
       "        text-align: right;\n",
       "    }\n",
       "</style>\n",
       "<table border=\"1\" class=\"dataframe\">\n",
       "  <thead>\n",
       "    <tr style=\"text-align: right;\">\n",
       "      <th></th>\n",
       "      <th>Id</th>\n",
       "      <th>longitude</th>\n",
       "      <th>latitude</th>\n",
       "      <th>housing_median_age</th>\n",
       "      <th>total_rooms</th>\n",
       "      <th>total_bedrooms</th>\n",
       "      <th>population</th>\n",
       "      <th>households</th>\n",
       "      <th>median_income</th>\n",
       "      <th>ocean_proximity</th>\n",
       "    </tr>\n",
       "  </thead>\n",
       "  <tbody>\n",
       "    <tr>\n",
       "      <th>0</th>\n",
       "      <td>0</td>\n",
       "      <td>-122.27</td>\n",
       "      <td>37.87</td>\n",
       "      <td>35.0</td>\n",
       "      <td>3218.0</td>\n",
       "      <td>1108.0</td>\n",
       "      <td>1675.0</td>\n",
       "      <td>1000.0</td>\n",
       "      <td>1.7464</td>\n",
       "      <td>NEAR BAY</td>\n",
       "    </tr>\n",
       "    <tr>\n",
       "      <th>1</th>\n",
       "      <td>1</td>\n",
       "      <td>-118.94</td>\n",
       "      <td>34.18</td>\n",
       "      <td>24.0</td>\n",
       "      <td>3689.0</td>\n",
       "      <td>585.0</td>\n",
       "      <td>1898.0</td>\n",
       "      <td>581.0</td>\n",
       "      <td>5.9224</td>\n",
       "      <td>&lt;1H OCEAN</td>\n",
       "    </tr>\n",
       "    <tr>\n",
       "      <th>2</th>\n",
       "      <td>2</td>\n",
       "      <td>-119.75</td>\n",
       "      <td>36.77</td>\n",
       "      <td>32.0</td>\n",
       "      <td>1962.0</td>\n",
       "      <td>399.0</td>\n",
       "      <td>1005.0</td>\n",
       "      <td>392.0</td>\n",
       "      <td>2.6726</td>\n",
       "      <td>INLAND</td>\n",
       "    </tr>\n",
       "    <tr>\n",
       "      <th>3</th>\n",
       "      <td>3</td>\n",
       "      <td>-118.34</td>\n",
       "      <td>33.93</td>\n",
       "      <td>32.0</td>\n",
       "      <td>1254.0</td>\n",
       "      <td>399.0</td>\n",
       "      <td>1281.0</td>\n",
       "      <td>386.0</td>\n",
       "      <td>2.2976</td>\n",
       "      <td>&lt;1H OCEAN</td>\n",
       "    </tr>\n",
       "    <tr>\n",
       "      <th>4</th>\n",
       "      <td>4</td>\n",
       "      <td>-119.00</td>\n",
       "      <td>35.36</td>\n",
       "      <td>35.0</td>\n",
       "      <td>1021.0</td>\n",
       "      <td>280.0</td>\n",
       "      <td>1258.0</td>\n",
       "      <td>239.0</td>\n",
       "      <td>1.7375</td>\n",
       "      <td>INLAND</td>\n",
       "    </tr>\n",
       "  </tbody>\n",
       "</table>\n",
       "</div>"
      ],
      "text/plain": [
       "   Id  longitude  latitude  housing_median_age  total_rooms  total_bedrooms  \\\n",
       "0   0    -122.27     37.87                35.0       3218.0          1108.0   \n",
       "1   1    -118.94     34.18                24.0       3689.0           585.0   \n",
       "2   2    -119.75     36.77                32.0       1962.0           399.0   \n",
       "3   3    -118.34     33.93                32.0       1254.0           399.0   \n",
       "4   4    -119.00     35.36                35.0       1021.0           280.0   \n",
       "\n",
       "   population  households  median_income ocean_proximity  \n",
       "0      1675.0      1000.0         1.7464        NEAR BAY  \n",
       "1      1898.0       581.0         5.9224       <1H OCEAN  \n",
       "2      1005.0       392.0         2.6726          INLAND  \n",
       "3      1281.0       386.0         2.2976       <1H OCEAN  \n",
       "4      1258.0       239.0         1.7375          INLAND  "
      ]
     },
     "execution_count": 5,
     "metadata": {},
     "output_type": "execute_result"
    }
   ],
   "source": [
    "test.head()"
   ]
  },
  {
   "cell_type": "markdown",
   "id": "ddfbf36c",
   "metadata": {},
   "source": [
    "We use head() to get a quick look at the data, to see how it is structured."
   ]
  },
  {
   "cell_type": "code",
   "execution_count": 6,
   "id": "54c3c2c9",
   "metadata": {},
   "outputs": [
    {
     "name": "stdout",
     "output_type": "stream",
     "text": [
      "<class 'pandas.core.frame.DataFrame'>\n",
      "RangeIndex: 16512 entries, 0 to 16511\n",
      "Data columns (total 10 columns):\n",
      " #   Column              Non-Null Count  Dtype  \n",
      "---  ------              --------------  -----  \n",
      " 0   longitude           16512 non-null  float64\n",
      " 1   latitude            16512 non-null  float64\n",
      " 2   housing_median_age  16512 non-null  float64\n",
      " 3   total_rooms         16512 non-null  float64\n",
      " 4   total_bedrooms      16344 non-null  float64\n",
      " 5   population          16512 non-null  float64\n",
      " 6   households          16512 non-null  float64\n",
      " 7   median_income       16512 non-null  float64\n",
      " 8   median_house_value  16512 non-null  float64\n",
      " 9   ocean_proximity     16512 non-null  object \n",
      "dtypes: float64(9), object(1)\n",
      "memory usage: 1.3+ MB\n"
     ]
    }
   ],
   "source": [
    "train.info()"
   ]
  },
  {
   "cell_type": "code",
   "execution_count": 7,
   "id": "e05b634a",
   "metadata": {},
   "outputs": [
    {
     "name": "stdout",
     "output_type": "stream",
     "text": [
      "<class 'pandas.core.frame.DataFrame'>\n",
      "RangeIndex: 4128 entries, 0 to 4127\n",
      "Data columns (total 10 columns):\n",
      " #   Column              Non-Null Count  Dtype  \n",
      "---  ------              --------------  -----  \n",
      " 0   Id                  4128 non-null   int64  \n",
      " 1   longitude           4128 non-null   float64\n",
      " 2   latitude            4128 non-null   float64\n",
      " 3   housing_median_age  4128 non-null   float64\n",
      " 4   total_rooms         4128 non-null   float64\n",
      " 5   total_bedrooms      4089 non-null   float64\n",
      " 6   population          4128 non-null   float64\n",
      " 7   households          4128 non-null   float64\n",
      " 8   median_income       4128 non-null   float64\n",
      " 9   ocean_proximity     4128 non-null   object \n",
      "dtypes: float64(8), int64(1), object(1)\n",
      "memory usage: 322.6+ KB\n"
     ]
    }
   ],
   "source": [
    "test.info()"
   ]
  },
  {
   "cell_type": "markdown",
   "id": "ef3876f9",
   "metadata": {},
   "source": [
    "We use info() to see what type of data is used, to get a overview of which categories are objects and float."
   ]
  },
  {
   "cell_type": "code",
   "execution_count": 8,
   "id": "98a061ba",
   "metadata": {},
   "outputs": [
    {
     "data": {
      "text/html": [
       "<div>\n",
       "<style scoped>\n",
       "    .dataframe tbody tr th:only-of-type {\n",
       "        vertical-align: middle;\n",
       "    }\n",
       "\n",
       "    .dataframe tbody tr th {\n",
       "        vertical-align: top;\n",
       "    }\n",
       "\n",
       "    .dataframe thead th {\n",
       "        text-align: right;\n",
       "    }\n",
       "</style>\n",
       "<table border=\"1\" class=\"dataframe\">\n",
       "  <thead>\n",
       "    <tr style=\"text-align: right;\">\n",
       "      <th></th>\n",
       "      <th>longitude</th>\n",
       "      <th>latitude</th>\n",
       "      <th>housing_median_age</th>\n",
       "      <th>total_rooms</th>\n",
       "      <th>total_bedrooms</th>\n",
       "      <th>population</th>\n",
       "      <th>households</th>\n",
       "      <th>median_income</th>\n",
       "      <th>median_house_value</th>\n",
       "    </tr>\n",
       "  </thead>\n",
       "  <tbody>\n",
       "    <tr>\n",
       "      <th>count</th>\n",
       "      <td>16512.000000</td>\n",
       "      <td>16512.000000</td>\n",
       "      <td>16512.000000</td>\n",
       "      <td>16512.000000</td>\n",
       "      <td>16344.000000</td>\n",
       "      <td>16512.000000</td>\n",
       "      <td>16512.000000</td>\n",
       "      <td>16512.000000</td>\n",
       "      <td>16512.000000</td>\n",
       "    </tr>\n",
       "    <tr>\n",
       "      <th>mean</th>\n",
       "      <td>-119.568763</td>\n",
       "      <td>35.630270</td>\n",
       "      <td>28.714571</td>\n",
       "      <td>2636.885841</td>\n",
       "      <td>537.999755</td>\n",
       "      <td>1425.131783</td>\n",
       "      <td>499.837936</td>\n",
       "      <td>3.871083</td>\n",
       "      <td>207262.390080</td>\n",
       "    </tr>\n",
       "    <tr>\n",
       "      <th>std</th>\n",
       "      <td>2.003747</td>\n",
       "      <td>2.137134</td>\n",
       "      <td>12.589203</td>\n",
       "      <td>2195.840228</td>\n",
       "      <td>422.944167</td>\n",
       "      <td>1126.453504</td>\n",
       "      <td>383.400473</td>\n",
       "      <td>1.909994</td>\n",
       "      <td>115838.329585</td>\n",
       "    </tr>\n",
       "    <tr>\n",
       "      <th>min</th>\n",
       "      <td>-124.350000</td>\n",
       "      <td>32.540000</td>\n",
       "      <td>1.000000</td>\n",
       "      <td>6.000000</td>\n",
       "      <td>1.000000</td>\n",
       "      <td>3.000000</td>\n",
       "      <td>1.000000</td>\n",
       "      <td>0.499900</td>\n",
       "      <td>14999.000000</td>\n",
       "    </tr>\n",
       "    <tr>\n",
       "      <th>25%</th>\n",
       "      <td>-121.790000</td>\n",
       "      <td>33.930000</td>\n",
       "      <td>18.000000</td>\n",
       "      <td>1445.000000</td>\n",
       "      <td>295.000000</td>\n",
       "      <td>787.000000</td>\n",
       "      <td>279.000000</td>\n",
       "      <td>2.562500</td>\n",
       "      <td>120000.000000</td>\n",
       "    </tr>\n",
       "    <tr>\n",
       "      <th>50%</th>\n",
       "      <td>-118.490000</td>\n",
       "      <td>34.260000</td>\n",
       "      <td>29.000000</td>\n",
       "      <td>2122.500000</td>\n",
       "      <td>434.000000</td>\n",
       "      <td>1163.000000</td>\n",
       "      <td>409.000000</td>\n",
       "      <td>3.529450</td>\n",
       "      <td>180400.000000</td>\n",
       "    </tr>\n",
       "    <tr>\n",
       "      <th>75%</th>\n",
       "      <td>-118.010000</td>\n",
       "      <td>37.710000</td>\n",
       "      <td>37.000000</td>\n",
       "      <td>3137.000000</td>\n",
       "      <td>646.000000</td>\n",
       "      <td>1723.000000</td>\n",
       "      <td>603.000000</td>\n",
       "      <td>4.746450</td>\n",
       "      <td>265100.000000</td>\n",
       "    </tr>\n",
       "    <tr>\n",
       "      <th>max</th>\n",
       "      <td>-114.310000</td>\n",
       "      <td>41.950000</td>\n",
       "      <td>52.000000</td>\n",
       "      <td>39320.000000</td>\n",
       "      <td>6210.000000</td>\n",
       "      <td>35682.000000</td>\n",
       "      <td>5358.000000</td>\n",
       "      <td>15.000100</td>\n",
       "      <td>500001.000000</td>\n",
       "    </tr>\n",
       "  </tbody>\n",
       "</table>\n",
       "</div>"
      ],
      "text/plain": [
       "          longitude      latitude  housing_median_age   total_rooms  \\\n",
       "count  16512.000000  16512.000000        16512.000000  16512.000000   \n",
       "mean    -119.568763     35.630270           28.714571   2636.885841   \n",
       "std        2.003747      2.137134           12.589203   2195.840228   \n",
       "min     -124.350000     32.540000            1.000000      6.000000   \n",
       "25%     -121.790000     33.930000           18.000000   1445.000000   \n",
       "50%     -118.490000     34.260000           29.000000   2122.500000   \n",
       "75%     -118.010000     37.710000           37.000000   3137.000000   \n",
       "max     -114.310000     41.950000           52.000000  39320.000000   \n",
       "\n",
       "       total_bedrooms    population    households  median_income  \\\n",
       "count    16344.000000  16512.000000  16512.000000   16512.000000   \n",
       "mean       537.999755   1425.131783    499.837936       3.871083   \n",
       "std        422.944167   1126.453504    383.400473       1.909994   \n",
       "min          1.000000      3.000000      1.000000       0.499900   \n",
       "25%        295.000000    787.000000    279.000000       2.562500   \n",
       "50%        434.000000   1163.000000    409.000000       3.529450   \n",
       "75%        646.000000   1723.000000    603.000000       4.746450   \n",
       "max       6210.000000  35682.000000   5358.000000      15.000100   \n",
       "\n",
       "       median_house_value  \n",
       "count        16512.000000  \n",
       "mean        207262.390080  \n",
       "std         115838.329585  \n",
       "min          14999.000000  \n",
       "25%         120000.000000  \n",
       "50%         180400.000000  \n",
       "75%         265100.000000  \n",
       "max         500001.000000  "
      ]
     },
     "execution_count": 8,
     "metadata": {},
     "output_type": "execute_result"
    }
   ],
   "source": [
    "train.describe()"
   ]
  },
  {
   "cell_type": "code",
   "execution_count": 9,
   "id": "da502c98",
   "metadata": {},
   "outputs": [
    {
     "data": {
      "text/plain": [
       "<1H OCEAN     7346\n",
       "INLAND        5214\n",
       "NEAR OCEAN    2112\n",
       "NEAR BAY      1835\n",
       "ISLAND           5\n",
       "Name: ocean_proximity, dtype: int64"
      ]
     },
     "execution_count": 9,
     "metadata": {},
     "output_type": "execute_result"
    }
   ],
   "source": [
    "train[\"ocean_proximity\"].value_counts()"
   ]
  },
  {
   "cell_type": "markdown",
   "id": "3003efc4",
   "metadata": {},
   "source": [
    "A representation of the data through histograms:"
   ]
  },
  {
   "cell_type": "code",
   "execution_count": 10,
   "id": "1873674d",
   "metadata": {},
   "outputs": [
    {
     "data": {
      "image/png": "[encoded data removed]",
      "text/plain": [
       "<Figure size 1440x1080 with 9 Axes>"
      ]
     },
     "metadata": {
      "needs_background": "light"
     },
     "output_type": "display_data"
    }
   ],
   "source": [
    "%matplotlib inline\n",
    "import matplotlib.pyplot as plt\n",
    "train.hist(bins=50, figsize=(20,15))\n",
    "plt.show()"
   ]
  },
  {
   "cell_type": "markdown",
   "id": "114c2e45",
   "metadata": {},
   "source": [
    "# Creating training and test sets"
   ]
  },
  {
   "cell_type": "markdown",
   "id": "90cc743a",
   "metadata": {},
   "source": [
    "Here we set aside parts of the data to create a structure for testing and training of the system. We do this so that the system has not yet seen the data it is testing and will not have any advantage of having seen the data before.\n",
    "\n",
    "Here we use random_state parameter that allows us to generate a seed, that we will store so we get the same sets of data each time we run the program."
   ]
  },
  {
   "cell_type": "code",
   "execution_count": 11,
   "id": "1c4de914",
   "metadata": {},
   "outputs": [],
   "source": [
    "np.random.seed(69)"
   ]
  },
  {
   "cell_type": "code",
   "execution_count": 12,
   "id": "3247504a",
   "metadata": {},
   "outputs": [],
   "source": [
    "import numpy as np\n",
    "def split_train_test(data, test_ratio):\n",
    "    shuffled_indices = np.random.permutation(len(data)) \n",
    "    test_set_size = int(len(data) * test_ratio) \n",
    "    test_indices = shuffled_indices[:test_set_size] \n",
    "    train_indices = shuffled_indices[test_set_size:]\n",
    "    return data.iloc[train_indices], data.iloc[test_indices]"
   ]
  },
  {
   "cell_type": "code",
   "execution_count": 13,
   "id": "3ee69780",
   "metadata": {},
   "outputs": [],
   "source": [
    "train_set, test_set = split_train_test(train, 0.2)"
   ]
  },
  {
   "cell_type": "code",
   "execution_count": 14,
   "id": "3b9205f1",
   "metadata": {},
   "outputs": [
    {
     "data": {
      "text/plain": [
       "13209"
      ]
     },
     "execution_count": 14,
     "metadata": {},
     "output_type": "execute_result"
    }
   ],
   "source": [
    "from sklearn.model_selection import train_test_split\n",
    "train_set, test_set = train_test_split(train, test_size=0.2, random_state=69)\n",
    "len(train_set)"
   ]
  },
  {
   "cell_type": "code",
   "execution_count": 15,
   "id": "1f5cf32d",
   "metadata": {},
   "outputs": [
    {
     "data": {
      "text/plain": [
       "3303"
      ]
     },
     "execution_count": 15,
     "metadata": {},
     "output_type": "execute_result"
    }
   ],
   "source": [
    "len(test_set)"
   ]
  },
  {
   "cell_type": "markdown",
   "id": "d5186093",
   "metadata": {},
   "source": [
    "The sets of data are devided into 80-20, the training set contains 80% of the data and the test set contains 20%. The total amount of data provided is 16512."
   ]
  },
  {
   "cell_type": "markdown",
   "id": "8da69dbd",
   "metadata": {},
   "source": [
    "Since most of the income in the income category is between 15,000 - 60,000 dollars, we can asses that most of the median income values will be clustered around 1.5 to 6. The income figures are represented in the figure below."
   ]
  },
  {
   "cell_type": "code",
   "execution_count": 16,
   "id": "30c9b6ca",
   "metadata": {},
   "outputs": [
    {
     "data": {
      "text/plain": [
       "<AxesSubplot:>"
      ]
     },
     "execution_count": 16,
     "metadata": {},
     "output_type": "execute_result"
    },
    {
     "data": {
      "image/png": "[encoded data removed]",
      "text/plain": [
       "<Figure size 432x288 with 1 Axes>"
      ]
     },
     "metadata": {
      "needs_background": "light"
     },
     "output_type": "display_data"
    }
   ],
   "source": [
    "train[\"income_cat\"] = pd.cut(train[\"median_income\"],\n",
    "    bins=[0., 1.5, 3.0, 4.5, 6., np.inf],\n",
    "    labels=[1, 2, 3, 4, 5])\n",
    "train[\"income_cat\"].hist()"
   ]
  },
  {
   "cell_type": "code",
   "execution_count": 17,
   "id": "19fa4a9f",
   "metadata": {},
   "outputs": [],
   "source": [
    "from sklearn.model_selection import StratifiedShuffleSplit\n",
    "split = StratifiedShuffleSplit(n_splits=1, test_size=0.2, random_state=69)\n",
    "for train_index, test_index in split.split(train, train[\"income_cat\"]):\n",
    "        strat_train_set = train.loc[train_index]\n",
    "        strat_test_set = train.loc[test_index]"
   ]
  },
  {
   "cell_type": "markdown",
   "id": "a9972a2a",
   "metadata": {},
   "source": [
    "The stratified set will try to come as close to the values of the whole set, to make the training and testing more reliable."
   ]
  },
  {
   "cell_type": "code",
   "execution_count": 18,
   "id": "7cf8fe0f",
   "metadata": {},
   "outputs": [
    {
     "data": {
      "text/plain": [
       "3    0.350594\n",
       "2    0.318859\n",
       "4    0.176296\n",
       "5    0.114402\n",
       "1    0.039850\n",
       "Name: income_cat, dtype: float64"
      ]
     },
     "execution_count": 18,
     "metadata": {},
     "output_type": "execute_result"
    }
   ],
   "source": [
    "train[\"income_cat\"].value_counts() / len(train)"
   ]
  },
  {
   "cell_type": "code",
   "execution_count": 19,
   "id": "a182913f",
   "metadata": {},
   "outputs": [
    {
     "data": {
      "text/plain": [
       "3    0.350594\n",
       "2    0.318873\n",
       "4    0.176319\n",
       "5    0.114392\n",
       "1    0.039821\n",
       "Name: income_cat, dtype: float64"
      ]
     },
     "execution_count": 19,
     "metadata": {},
     "output_type": "execute_result"
    }
   ],
   "source": [
    "strat_train_set[\"income_cat\"].value_counts() / len(strat_train_set)"
   ]
  },
  {
   "cell_type": "code",
   "execution_count": 20,
   "id": "ce46f173",
   "metadata": {},
   "outputs": [
    {
     "data": {
      "text/html": [
       "<div>\n",
       "<style scoped>\n",
       "    .dataframe tbody tr th:only-of-type {\n",
       "        vertical-align: middle;\n",
       "    }\n",
       "\n",
       "    .dataframe tbody tr th {\n",
       "        vertical-align: top;\n",
       "    }\n",
       "\n",
       "    .dataframe thead th {\n",
       "        text-align: right;\n",
       "    }\n",
       "</style>\n",
       "<table border=\"1\" class=\"dataframe\">\n",
       "  <thead>\n",
       "    <tr style=\"text-align: right;\">\n",
       "      <th></th>\n",
       "      <th>Overall</th>\n",
       "      <th>Stratified</th>\n",
       "      <th>Random</th>\n",
       "      <th>Rand. %error</th>\n",
       "      <th>Strat. %error</th>\n",
       "    </tr>\n",
       "  </thead>\n",
       "  <tbody>\n",
       "    <tr>\n",
       "      <th>1</th>\n",
       "      <td>0.039850</td>\n",
       "      <td>0.039964</td>\n",
       "      <td>0.034211</td>\n",
       "      <td>-14.149336</td>\n",
       "      <td>0.285731</td>\n",
       "    </tr>\n",
       "    <tr>\n",
       "      <th>2</th>\n",
       "      <td>0.318859</td>\n",
       "      <td>0.318801</td>\n",
       "      <td>0.320012</td>\n",
       "      <td>0.361633</td>\n",
       "      <td>-0.018165</td>\n",
       "    </tr>\n",
       "    <tr>\n",
       "      <th>3</th>\n",
       "      <td>0.350594</td>\n",
       "      <td>0.350590</td>\n",
       "      <td>0.349682</td>\n",
       "      <td>-0.259959</td>\n",
       "      <td>-0.000894</td>\n",
       "    </tr>\n",
       "    <tr>\n",
       "      <th>4</th>\n",
       "      <td>0.176296</td>\n",
       "      <td>0.176203</td>\n",
       "      <td>0.177112</td>\n",
       "      <td>0.462682</td>\n",
       "      <td>-0.052512</td>\n",
       "    </tr>\n",
       "    <tr>\n",
       "      <th>5</th>\n",
       "      <td>0.114402</td>\n",
       "      <td>0.114441</td>\n",
       "      <td>0.118983</td>\n",
       "      <td>4.004397</td>\n",
       "      <td>0.034763</td>\n",
       "    </tr>\n",
       "  </tbody>\n",
       "</table>\n",
       "</div>"
      ],
      "text/plain": [
       "    Overall  Stratified    Random  Rand. %error  Strat. %error\n",
       "1  0.039850    0.039964  0.034211    -14.149336       0.285731\n",
       "2  0.318859    0.318801  0.320012      0.361633      -0.018165\n",
       "3  0.350594    0.350590  0.349682     -0.259959      -0.000894\n",
       "4  0.176296    0.176203  0.177112      0.462682      -0.052512\n",
       "5  0.114402    0.114441  0.118983      4.004397       0.034763"
      ]
     },
     "execution_count": 20,
     "metadata": {},
     "output_type": "execute_result"
    }
   ],
   "source": [
    "def income_cat_proportions(data):\n",
    "    return data[\"income_cat\"].value_counts() / len(data)\n",
    "\n",
    "train_set, test_set = train_test_split(train, test_size=0.2, random_state=69)\n",
    "\n",
    "compare_props = pd.DataFrame({\n",
    "    \"Overall\": income_cat_proportions(train),\n",
    "    \"Stratified\": income_cat_proportions(strat_test_set),\n",
    "    \"Random\": income_cat_proportions(test_set),\n",
    "}).sort_index()\n",
    "compare_props[\"Rand. %error\"] = 100 * compare_props[\"Random\"] / compare_props[\"Overall\"] - 100\n",
    "compare_props[\"Strat. %error\"] = 100 * compare_props[\"Stratified\"] / compare_props[\"Overall\"] - 100\n",
    "\n",
    "compare_props"
   ]
  },
  {
   "cell_type": "code",
   "execution_count": 21,
   "id": "03634b38",
   "metadata": {},
   "outputs": [],
   "source": [
    "for set_ in (strat_train_set, strat_test_set): set_.drop(\"income_cat\", axis=1, inplace=True)"
   ]
  },
  {
   "cell_type": "markdown",
   "id": "9ddff58c",
   "metadata": {},
   "source": [
    "# Visualizing the data"
   ]
  },
  {
   "cell_type": "code",
   "execution_count": 22,
   "id": "ec8d1e57",
   "metadata": {},
   "outputs": [],
   "source": [
    "train = strat_train_set.copy()"
   ]
  },
  {
   "cell_type": "markdown",
   "id": "436566fc",
   "metadata": {},
   "source": [
    "Creating a plot which shows you where there is a high density of data points."
   ]
  },
  {
   "cell_type": "code",
   "execution_count": 23,
   "id": "6a4d3a97",
   "metadata": {},
   "outputs": [
    {
     "data": {
      "text/plain": [
       "<AxesSubplot:xlabel='longitude', ylabel='latitude'>"
      ]
     },
     "execution_count": 23,
     "metadata": {},
     "output_type": "execute_result"
    },
    {
     "data": {
      "image/png": "[encoded data removed]",
      "text/plain": [
       "<Figure size 432x288 with 1 Axes>"
      ]
     },
     "metadata": {
      "needs_background": "light"
     },
     "output_type": "display_data"
    }
   ],
   "source": [
    "train.plot(kind=\"scatter\", x=\"longitude\", y=\"latitude\", alpha=0.1)"
   ]
  },
  {
   "cell_type": "code",
   "execution_count": 24,
   "id": "05dc275e",
   "metadata": {},
   "outputs": [
    {
     "data": {
      "text/plain": [
       "<matplotlib.legend.Legend at 0x114982220>"
      ]
     },
     "execution_count": 24,
     "metadata": {},
     "output_type": "execute_result"
    },
    {
     "data": {
      "image/png": "[encoded data removed]",
      "text/plain": [
       "<Figure size 720x504 with 2 Axes>"
      ]
     },
     "metadata": {
      "needs_background": "light"
     },
     "output_type": "display_data"
    }
   ],
   "source": [
    "train.plot(kind=\"scatter\", x=\"longitude\", y=\"latitude\", alpha=0.4,\n",
    "    s=train[\"population\"]/100, label=\"population\", figsize=(10,7),\n",
    "    c=\"median_house_value\", cmap=plt.get_cmap(\"jet\"), colorbar=True,\n",
    ")\n",
    "plt.legend()"
   ]
  },
  {
   "cell_type": "markdown",
   "id": "a51fc27d",
   "metadata": {},
   "source": [
    "# Correlations"
   ]
  },
  {
   "cell_type": "code",
   "execution_count": 25,
   "id": "8c80cab1",
   "metadata": {},
   "outputs": [],
   "source": [
    "corr_matrix = train.corr()"
   ]
  },
  {
   "cell_type": "markdown",
   "id": "ddeb82ee",
   "metadata": {},
   "source": [
    "Making a correlation between median house value, to see what categories of data wich is not relevant. The correlation coefficient ranges from -1 to 1. When it is close to 1, it means that the data is closely related to what you are looking for."
   ]
  },
  {
   "cell_type": "code",
   "execution_count": 26,
   "id": "18aad12c",
   "metadata": {},
   "outputs": [
    {
     "data": {
      "text/plain": [
       "median_house_value    1.000000\n",
       "median_income         0.685986\n",
       "total_rooms           0.135285\n",
       "housing_median_age    0.110320\n",
       "households            0.064610\n",
       "total_bedrooms        0.048759\n",
       "population           -0.026241\n",
       "longitude            -0.044985\n",
       "latitude             -0.142615\n",
       "Name: median_house_value, dtype: float64"
      ]
     },
     "execution_count": 26,
     "metadata": {},
     "output_type": "execute_result"
    }
   ],
   "source": [
    "corr_matrix[\"median_house_value\"].sort_values(ascending=False)"
   ]
  },
  {
   "cell_type": "code",
   "execution_count": 27,
   "id": "6d0b6d8c",
   "metadata": {},
   "outputs": [
    {
     "data": {
      "text/plain": [
       "array([[<AxesSubplot:xlabel='median_house_value', ylabel='median_house_value'>,\n",
       "        <AxesSubplot:xlabel='median_income', ylabel='median_house_value'>,\n",
       "        <AxesSubplot:xlabel='total_rooms', ylabel='median_house_value'>,\n",
       "        <AxesSubplot:xlabel='housing_median_age', ylabel='median_house_value'>],\n",
       "       [<AxesSubplot:xlabel='median_house_value', ylabel='median_income'>,\n",
       "        <AxesSubplot:xlabel='median_income', ylabel='median_income'>,\n",
       "        <AxesSubplot:xlabel='total_rooms', ylabel='median_income'>,\n",
       "        <AxesSubplot:xlabel='housing_median_age', ylabel='median_income'>],\n",
       "       [<AxesSubplot:xlabel='median_house_value', ylabel='total_rooms'>,\n",
       "        <AxesSubplot:xlabel='median_income', ylabel='total_rooms'>,\n",
       "        <AxesSubplot:xlabel='total_rooms', ylabel='total_rooms'>,\n",
       "        <AxesSubplot:xlabel='housing_median_age', ylabel='total_rooms'>],\n",
       "       [<AxesSubplot:xlabel='median_house_value', ylabel='housing_median_age'>,\n",
       "        <AxesSubplot:xlabel='median_income', ylabel='housing_median_age'>,\n",
       "        <AxesSubplot:xlabel='total_rooms', ylabel='housing_median_age'>,\n",
       "        <AxesSubplot:xlabel='housing_median_age', ylabel='housing_median_age'>]],\n",
       "      dtype=object)"
      ]
     },
     "execution_count": 27,
     "metadata": {},
     "output_type": "execute_result"
    },
    {
     "data": {
      "image/png": "[encoded data removed]",
      "text/plain": [
       "<Figure size 864x576 with 16 Axes>"
      ]
     },
     "metadata": {
      "needs_background": "light"
     },
     "output_type": "display_data"
    }
   ],
   "source": [
    "from pandas.plotting import scatter_matrix\n",
    "attributes = [\"median_house_value\", \"median_income\", \"total_rooms\",\"housing_median_age\"]\n",
    "scatter_matrix(train[attributes], figsize=(12, 8))"
   ]
  },
  {
   "cell_type": "markdown",
   "id": "50a888fc",
   "metadata": {},
   "source": [
    "After alot of trail and error, we found that bedrooms_per_room has the best correlation with median_house_value."
   ]
  },
  {
   "cell_type": "code",
   "execution_count": 28,
   "id": "8024e7bd",
   "metadata": {},
   "outputs": [],
   "source": [
    "train[\"bedrooms_per_room\"] = train[\"total_bedrooms\"]/train[\"total_rooms\"]\n",
    "train[\"rooms_per_household\"] = train[\"total_rooms\"]/train[\"households\"]"
   ]
  },
  {
   "cell_type": "code",
   "execution_count": 29,
   "id": "2dce3c35",
   "metadata": {},
   "outputs": [
    {
     "data": {
      "text/plain": [
       "median_house_value     1.000000\n",
       "median_income          0.685986\n",
       "rooms_per_household    0.173964\n",
       "total_rooms            0.135285\n",
       "housing_median_age     0.110320\n",
       "households             0.064610\n",
       "total_bedrooms         0.048759\n",
       "population            -0.026241\n",
       "longitude             -0.044985\n",
       "latitude              -0.142615\n",
       "bedrooms_per_room     -0.258697\n",
       "Name: median_house_value, dtype: float64"
      ]
     },
     "execution_count": 29,
     "metadata": {},
     "output_type": "execute_result"
    }
   ],
   "source": [
    "corr_matrix = train.corr()\n",
    "corr_matrix[\"median_house_value\"].sort_values(ascending=False)"
   ]
  },
  {
   "cell_type": "code",
   "execution_count": 30,
   "id": "038dbfc1",
   "metadata": {},
   "outputs": [
    {
     "data": {
      "text/html": [
       "<div>\n",
       "<style scoped>\n",
       "    .dataframe tbody tr th:only-of-type {\n",
       "        vertical-align: middle;\n",
       "    }\n",
       "\n",
       "    .dataframe tbody tr th {\n",
       "        vertical-align: top;\n",
       "    }\n",
       "\n",
       "    .dataframe thead th {\n",
       "        text-align: right;\n",
       "    }\n",
       "</style>\n",
       "<table border=\"1\" class=\"dataframe\">\n",
       "  <thead>\n",
       "    <tr style=\"text-align: right;\">\n",
       "      <th></th>\n",
       "      <th>longitude</th>\n",
       "      <th>latitude</th>\n",
       "      <th>housing_median_age</th>\n",
       "      <th>total_rooms</th>\n",
       "      <th>total_bedrooms</th>\n",
       "      <th>population</th>\n",
       "      <th>households</th>\n",
       "      <th>median_income</th>\n",
       "      <th>median_house_value</th>\n",
       "      <th>bedrooms_per_room</th>\n",
       "      <th>rooms_per_household</th>\n",
       "    </tr>\n",
       "  </thead>\n",
       "  <tbody>\n",
       "    <tr>\n",
       "      <th>count</th>\n",
       "      <td>13209.000000</td>\n",
       "      <td>13209.000000</td>\n",
       "      <td>13209.000000</td>\n",
       "      <td>13209.000000</td>\n",
       "      <td>13067.000000</td>\n",
       "      <td>13209.00000</td>\n",
       "      <td>13209.000000</td>\n",
       "      <td>13209.000000</td>\n",
       "      <td>13209.000000</td>\n",
       "      <td>13067.000000</td>\n",
       "      <td>13209.000000</td>\n",
       "    </tr>\n",
       "    <tr>\n",
       "      <th>mean</th>\n",
       "      <td>-119.564807</td>\n",
       "      <td>35.620958</td>\n",
       "      <td>28.773261</td>\n",
       "      <td>2626.015065</td>\n",
       "      <td>536.200582</td>\n",
       "      <td>1421.16027</td>\n",
       "      <td>498.529866</td>\n",
       "      <td>3.872788</td>\n",
       "      <td>208030.770762</td>\n",
       "      <td>0.213174</td>\n",
       "      <td>5.410672</td>\n",
       "    </tr>\n",
       "    <tr>\n",
       "      <th>std</th>\n",
       "      <td>2.007072</td>\n",
       "      <td>2.138570</td>\n",
       "      <td>12.537575</td>\n",
       "      <td>2163.970299</td>\n",
       "      <td>418.274817</td>\n",
       "      <td>1123.11781</td>\n",
       "      <td>380.092524</td>\n",
       "      <td>1.912364</td>\n",
       "      <td>116315.439732</td>\n",
       "      <td>0.057897</td>\n",
       "      <td>2.339058</td>\n",
       "    </tr>\n",
       "    <tr>\n",
       "      <th>min</th>\n",
       "      <td>-124.350000</td>\n",
       "      <td>32.540000</td>\n",
       "      <td>1.000000</td>\n",
       "      <td>6.000000</td>\n",
       "      <td>1.000000</td>\n",
       "      <td>3.00000</td>\n",
       "      <td>1.000000</td>\n",
       "      <td>0.499900</td>\n",
       "      <td>14999.000000</td>\n",
       "      <td>0.100000</td>\n",
       "      <td>0.888889</td>\n",
       "    </tr>\n",
       "    <tr>\n",
       "      <th>25%</th>\n",
       "      <td>-121.800000</td>\n",
       "      <td>33.930000</td>\n",
       "      <td>18.000000</td>\n",
       "      <td>1443.000000</td>\n",
       "      <td>295.000000</td>\n",
       "      <td>786.00000</td>\n",
       "      <td>279.000000</td>\n",
       "      <td>2.562500</td>\n",
       "      <td>120800.000000</td>\n",
       "      <td>0.175326</td>\n",
       "      <td>4.443038</td>\n",
       "    </tr>\n",
       "    <tr>\n",
       "      <th>50%</th>\n",
       "      <td>-118.480000</td>\n",
       "      <td>34.250000</td>\n",
       "      <td>29.000000</td>\n",
       "      <td>2114.000000</td>\n",
       "      <td>433.000000</td>\n",
       "      <td>1161.00000</td>\n",
       "      <td>409.000000</td>\n",
       "      <td>3.531300</td>\n",
       "      <td>181300.000000</td>\n",
       "      <td>0.203145</td>\n",
       "      <td>5.229213</td>\n",
       "    </tr>\n",
       "    <tr>\n",
       "      <th>75%</th>\n",
       "      <td>-118.000000</td>\n",
       "      <td>37.710000</td>\n",
       "      <td>37.000000</td>\n",
       "      <td>3119.000000</td>\n",
       "      <td>644.000000</td>\n",
       "      <td>1715.00000</td>\n",
       "      <td>600.000000</td>\n",
       "      <td>4.745000</td>\n",
       "      <td>265600.000000</td>\n",
       "      <td>0.240000</td>\n",
       "      <td>6.048421</td>\n",
       "    </tr>\n",
       "    <tr>\n",
       "      <th>max</th>\n",
       "      <td>-114.470000</td>\n",
       "      <td>41.950000</td>\n",
       "      <td>52.000000</td>\n",
       "      <td>32054.000000</td>\n",
       "      <td>5419.000000</td>\n",
       "      <td>35682.00000</td>\n",
       "      <td>5050.000000</td>\n",
       "      <td>15.000100</td>\n",
       "      <td>500001.000000</td>\n",
       "      <td>1.000000</td>\n",
       "      <td>141.909091</td>\n",
       "    </tr>\n",
       "  </tbody>\n",
       "</table>\n",
       "</div>"
      ],
      "text/plain": [
       "          longitude      latitude  housing_median_age   total_rooms  \\\n",
       "count  13209.000000  13209.000000        13209.000000  13209.000000   \n",
       "mean    -119.564807     35.620958           28.773261   2626.015065   \n",
       "std        2.007072      2.138570           12.537575   2163.970299   \n",
       "min     -124.350000     32.540000            1.000000      6.000000   \n",
       "25%     -121.800000     33.930000           18.000000   1443.000000   \n",
       "50%     -118.480000     34.250000           29.000000   2114.000000   \n",
       "75%     -118.000000     37.710000           37.000000   3119.000000   \n",
       "max     -114.470000     41.950000           52.000000  32054.000000   \n",
       "\n",
       "       total_bedrooms   population    households  median_income  \\\n",
       "count    13067.000000  13209.00000  13209.000000   13209.000000   \n",
       "mean       536.200582   1421.16027    498.529866       3.872788   \n",
       "std        418.274817   1123.11781    380.092524       1.912364   \n",
       "min          1.000000      3.00000      1.000000       0.499900   \n",
       "25%        295.000000    786.00000    279.000000       2.562500   \n",
       "50%        433.000000   1161.00000    409.000000       3.531300   \n",
       "75%        644.000000   1715.00000    600.000000       4.745000   \n",
       "max       5419.000000  35682.00000   5050.000000      15.000100   \n",
       "\n",
       "       median_house_value  bedrooms_per_room  rooms_per_household  \n",
       "count        13209.000000       13067.000000         13209.000000  \n",
       "mean        208030.770762           0.213174             5.410672  \n",
       "std         116315.439732           0.057897             2.339058  \n",
       "min          14999.000000           0.100000             0.888889  \n",
       "25%         120800.000000           0.175326             4.443038  \n",
       "50%         181300.000000           0.203145             5.229213  \n",
       "75%         265600.000000           0.240000             6.048421  \n",
       "max         500001.000000           1.000000           141.909091  "
      ]
     },
     "execution_count": 30,
     "metadata": {},
     "output_type": "execute_result"
    }
   ],
   "source": [
    "train.describe()"
   ]
  },
  {
   "cell_type": "code",
   "execution_count": 31,
   "id": "4e84c33c",
   "metadata": {},
   "outputs": [],
   "source": [
    "train = strat_train_set.drop(\"median_house_value\", axis=1)\n",
    "train_labels = strat_train_set[\"median_house_value\"].copy()"
   ]
  },
  {
   "cell_type": "markdown",
   "id": "958d533f",
   "metadata": {},
   "source": [
    "# Cleaning the data\n",
    "\n",
    "We have seen that there are some zero values in total_bedrooms, to clean this we set the zero values to the median value."
   ]
  },
  {
   "cell_type": "code",
   "execution_count": 32,
   "id": "fcc2b72a",
   "metadata": {},
   "outputs": [
    {
     "data": {
      "text/html": [
       "<div>\n",
       "<style scoped>\n",
       "    .dataframe tbody tr th:only-of-type {\n",
       "        vertical-align: middle;\n",
       "    }\n",
       "\n",
       "    .dataframe tbody tr th {\n",
       "        vertical-align: top;\n",
       "    }\n",
       "\n",
       "    .dataframe thead th {\n",
       "        text-align: right;\n",
       "    }\n",
       "</style>\n",
       "<table border=\"1\" class=\"dataframe\">\n",
       "  <thead>\n",
       "    <tr style=\"text-align: right;\">\n",
       "      <th></th>\n",
       "      <th>longitude</th>\n",
       "      <th>latitude</th>\n",
       "      <th>housing_median_age</th>\n",
       "      <th>total_rooms</th>\n",
       "      <th>total_bedrooms</th>\n",
       "      <th>population</th>\n",
       "      <th>households</th>\n",
       "      <th>median_income</th>\n",
       "      <th>ocean_proximity</th>\n",
       "    </tr>\n",
       "  </thead>\n",
       "  <tbody>\n",
       "    <tr>\n",
       "      <th>760</th>\n",
       "      <td>-122.44</td>\n",
       "      <td>37.80</td>\n",
       "      <td>52.0</td>\n",
       "      <td>3830.0</td>\n",
       "      <td>NaN</td>\n",
       "      <td>1310.0</td>\n",
       "      <td>963.0</td>\n",
       "      <td>3.4801</td>\n",
       "      <td>NEAR BAY</td>\n",
       "    </tr>\n",
       "    <tr>\n",
       "      <th>15641</th>\n",
       "      <td>-118.38</td>\n",
       "      <td>34.05</td>\n",
       "      <td>49.0</td>\n",
       "      <td>702.0</td>\n",
       "      <td>NaN</td>\n",
       "      <td>458.0</td>\n",
       "      <td>187.0</td>\n",
       "      <td>4.8958</td>\n",
       "      <td>&lt;1H OCEAN</td>\n",
       "    </tr>\n",
       "    <tr>\n",
       "      <th>2596</th>\n",
       "      <td>-120.67</td>\n",
       "      <td>40.50</td>\n",
       "      <td>15.0</td>\n",
       "      <td>5343.0</td>\n",
       "      <td>NaN</td>\n",
       "      <td>2503.0</td>\n",
       "      <td>902.0</td>\n",
       "      <td>3.5962</td>\n",
       "      <td>INLAND</td>\n",
       "    </tr>\n",
       "    <tr>\n",
       "      <th>16292</th>\n",
       "      <td>-122.39</td>\n",
       "      <td>37.59</td>\n",
       "      <td>32.0</td>\n",
       "      <td>4497.0</td>\n",
       "      <td>NaN</td>\n",
       "      <td>1846.0</td>\n",
       "      <td>715.0</td>\n",
       "      <td>6.1323</td>\n",
       "      <td>NEAR OCEAN</td>\n",
       "    </tr>\n",
       "    <tr>\n",
       "      <th>15430</th>\n",
       "      <td>-118.43</td>\n",
       "      <td>34.20</td>\n",
       "      <td>28.0</td>\n",
       "      <td>3386.0</td>\n",
       "      <td>NaN</td>\n",
       "      <td>2240.0</td>\n",
       "      <td>737.0</td>\n",
       "      <td>3.0221</td>\n",
       "      <td>&lt;1H OCEAN</td>\n",
       "    </tr>\n",
       "  </tbody>\n",
       "</table>\n",
       "</div>"
      ],
      "text/plain": [
       "       longitude  latitude  housing_median_age  total_rooms  total_bedrooms  \\\n",
       "760      -122.44     37.80                52.0       3830.0             NaN   \n",
       "15641    -118.38     34.05                49.0        702.0             NaN   \n",
       "2596     -120.67     40.50                15.0       5343.0             NaN   \n",
       "16292    -122.39     37.59                32.0       4497.0             NaN   \n",
       "15430    -118.43     34.20                28.0       3386.0             NaN   \n",
       "\n",
       "       population  households  median_income ocean_proximity  \n",
       "760        1310.0       963.0         3.4801        NEAR BAY  \n",
       "15641       458.0       187.0         4.8958       <1H OCEAN  \n",
       "2596       2503.0       902.0         3.5962          INLAND  \n",
       "16292      1846.0       715.0         6.1323      NEAR OCEAN  \n",
       "15430      2240.0       737.0         3.0221       <1H OCEAN  "
      ]
     },
     "execution_count": 32,
     "metadata": {},
     "output_type": "execute_result"
    }
   ],
   "source": [
    "sample_incomplete_rows = train[train.isnull().any(axis=1)].head()\n",
    "sample_incomplete_rows"
   ]
  },
  {
   "cell_type": "markdown",
   "id": "71f8be7a",
   "metadata": {},
   "source": [
    "We use SimpleImputer to replace missing data."
   ]
  },
  {
   "cell_type": "code",
   "execution_count": 33,
   "id": "e15335b7",
   "metadata": {},
   "outputs": [],
   "source": [
    "from sklearn.impute import SimpleImputer \n",
    "imputer = SimpleImputer(strategy=\"median\")"
   ]
  },
  {
   "cell_type": "code",
   "execution_count": 34,
   "id": "9b4e96aa",
   "metadata": {},
   "outputs": [],
   "source": [
    "train_num = train.drop(\"ocean_proximity\", axis=1)"
   ]
  },
  {
   "cell_type": "code",
   "execution_count": 35,
   "id": "e5d1a24d",
   "metadata": {},
   "outputs": [
    {
     "data": {
      "text/plain": [
       "SimpleImputer(strategy='median')"
      ]
     },
     "execution_count": 35,
     "metadata": {},
     "output_type": "execute_result"
    }
   ],
   "source": [
    " imputer.fit(train_num)"
   ]
  },
  {
   "cell_type": "code",
   "execution_count": 36,
   "id": "12052412",
   "metadata": {},
   "outputs": [
    {
     "data": {
      "text/plain": [
       "array([-118.48  ,   34.25  ,   29.    , 2114.    ,  433.    , 1161.    ,\n",
       "        409.    ,    3.5313])"
      ]
     },
     "execution_count": 36,
     "metadata": {},
     "output_type": "execute_result"
    }
   ],
   "source": [
    "imputer.statistics_"
   ]
  },
  {
   "cell_type": "code",
   "execution_count": 37,
   "id": "27e05b2f",
   "metadata": {},
   "outputs": [
    {
     "data": {
      "text/plain": [
       "array([-118.48  ,   34.25  ,   29.    , 2114.    ,  433.    , 1161.    ,\n",
       "        409.    ,    3.5313])"
      ]
     },
     "execution_count": 37,
     "metadata": {},
     "output_type": "execute_result"
    }
   ],
   "source": [
    "train_num.median().values"
   ]
  },
  {
   "cell_type": "code",
   "execution_count": 38,
   "id": "2231ad64",
   "metadata": {},
   "outputs": [],
   "source": [
    "X = imputer.transform(train_num)"
   ]
  },
  {
   "cell_type": "code",
   "execution_count": 39,
   "id": "6dfd4065",
   "metadata": {},
   "outputs": [],
   "source": [
    "train_tr = pd.DataFrame(X, columns=train_num.columns,index=train.index)"
   ]
  },
  {
   "cell_type": "code",
   "execution_count": 40,
   "id": "49a54c4a",
   "metadata": {},
   "outputs": [
    {
     "data": {
      "text/html": [
       "<div>\n",
       "<style scoped>\n",
       "    .dataframe tbody tr th:only-of-type {\n",
       "        vertical-align: middle;\n",
       "    }\n",
       "\n",
       "    .dataframe tbody tr th {\n",
       "        vertical-align: top;\n",
       "    }\n",
       "\n",
       "    .dataframe thead th {\n",
       "        text-align: right;\n",
       "    }\n",
       "</style>\n",
       "<table border=\"1\" class=\"dataframe\">\n",
       "  <thead>\n",
       "    <tr style=\"text-align: right;\">\n",
       "      <th></th>\n",
       "      <th>longitude</th>\n",
       "      <th>latitude</th>\n",
       "      <th>housing_median_age</th>\n",
       "      <th>total_rooms</th>\n",
       "      <th>total_bedrooms</th>\n",
       "      <th>population</th>\n",
       "      <th>households</th>\n",
       "      <th>median_income</th>\n",
       "    </tr>\n",
       "  </thead>\n",
       "  <tbody>\n",
       "    <tr>\n",
       "      <th>760</th>\n",
       "      <td>-122.44</td>\n",
       "      <td>37.80</td>\n",
       "      <td>52.0</td>\n",
       "      <td>3830.0</td>\n",
       "      <td>433.0</td>\n",
       "      <td>1310.0</td>\n",
       "      <td>963.0</td>\n",
       "      <td>3.4801</td>\n",
       "    </tr>\n",
       "    <tr>\n",
       "      <th>15641</th>\n",
       "      <td>-118.38</td>\n",
       "      <td>34.05</td>\n",
       "      <td>49.0</td>\n",
       "      <td>702.0</td>\n",
       "      <td>433.0</td>\n",
       "      <td>458.0</td>\n",
       "      <td>187.0</td>\n",
       "      <td>4.8958</td>\n",
       "    </tr>\n",
       "    <tr>\n",
       "      <th>2596</th>\n",
       "      <td>-120.67</td>\n",
       "      <td>40.50</td>\n",
       "      <td>15.0</td>\n",
       "      <td>5343.0</td>\n",
       "      <td>433.0</td>\n",
       "      <td>2503.0</td>\n",
       "      <td>902.0</td>\n",
       "      <td>3.5962</td>\n",
       "    </tr>\n",
       "    <tr>\n",
       "      <th>16292</th>\n",
       "      <td>-122.39</td>\n",
       "      <td>37.59</td>\n",
       "      <td>32.0</td>\n",
       "      <td>4497.0</td>\n",
       "      <td>433.0</td>\n",
       "      <td>1846.0</td>\n",
       "      <td>715.0</td>\n",
       "      <td>6.1323</td>\n",
       "    </tr>\n",
       "    <tr>\n",
       "      <th>15430</th>\n",
       "      <td>-118.43</td>\n",
       "      <td>34.20</td>\n",
       "      <td>28.0</td>\n",
       "      <td>3386.0</td>\n",
       "      <td>433.0</td>\n",
       "      <td>2240.0</td>\n",
       "      <td>737.0</td>\n",
       "      <td>3.0221</td>\n",
       "    </tr>\n",
       "  </tbody>\n",
       "</table>\n",
       "</div>"
      ],
      "text/plain": [
       "       longitude  latitude  housing_median_age  total_rooms  total_bedrooms  \\\n",
       "760      -122.44     37.80                52.0       3830.0           433.0   \n",
       "15641    -118.38     34.05                49.0        702.0           433.0   \n",
       "2596     -120.67     40.50                15.0       5343.0           433.0   \n",
       "16292    -122.39     37.59                32.0       4497.0           433.0   \n",
       "15430    -118.43     34.20                28.0       3386.0           433.0   \n",
       "\n",
       "       population  households  median_income  \n",
       "760        1310.0       963.0         3.4801  \n",
       "15641       458.0       187.0         4.8958  \n",
       "2596       2503.0       902.0         3.5962  \n",
       "16292      1846.0       715.0         6.1323  \n",
       "15430      2240.0       737.0         3.0221  "
      ]
     },
     "execution_count": 40,
     "metadata": {},
     "output_type": "execute_result"
    }
   ],
   "source": [
    "train_tr.loc[sample_incomplete_rows.index.values]"
   ]
  },
  {
   "cell_type": "code",
   "execution_count": 41,
   "id": "bad5bd9c",
   "metadata": {},
   "outputs": [
    {
     "data": {
      "text/plain": [
       "'median'"
      ]
     },
     "execution_count": 41,
     "metadata": {},
     "output_type": "execute_result"
    }
   ],
   "source": [
    "imputer.strategy"
   ]
  },
  {
   "cell_type": "code",
   "execution_count": 42,
   "id": "04e1ddb0",
   "metadata": {},
   "outputs": [],
   "source": [
    "train_tr = pd.DataFrame(X, columns=train_num.columns,index=train_num.index)"
   ]
  },
  {
   "cell_type": "code",
   "execution_count": 43,
   "id": "58a0db00",
   "metadata": {},
   "outputs": [
    {
     "data": {
      "text/html": [
       "<div>\n",
       "<style scoped>\n",
       "    .dataframe tbody tr th:only-of-type {\n",
       "        vertical-align: middle;\n",
       "    }\n",
       "\n",
       "    .dataframe tbody tr th {\n",
       "        vertical-align: top;\n",
       "    }\n",
       "\n",
       "    .dataframe thead th {\n",
       "        text-align: right;\n",
       "    }\n",
       "</style>\n",
       "<table border=\"1\" class=\"dataframe\">\n",
       "  <thead>\n",
       "    <tr style=\"text-align: right;\">\n",
       "      <th></th>\n",
       "      <th>longitude</th>\n",
       "      <th>latitude</th>\n",
       "      <th>housing_median_age</th>\n",
       "      <th>total_rooms</th>\n",
       "      <th>total_bedrooms</th>\n",
       "      <th>population</th>\n",
       "      <th>households</th>\n",
       "      <th>median_income</th>\n",
       "    </tr>\n",
       "  </thead>\n",
       "  <tbody>\n",
       "    <tr>\n",
       "      <th>7074</th>\n",
       "      <td>-122.06</td>\n",
       "      <td>37.34</td>\n",
       "      <td>20.0</td>\n",
       "      <td>3435.0</td>\n",
       "      <td>593.0</td>\n",
       "      <td>1293.0</td>\n",
       "      <td>553.0</td>\n",
       "      <td>6.7578</td>\n",
       "    </tr>\n",
       "    <tr>\n",
       "      <th>12812</th>\n",
       "      <td>-117.17</td>\n",
       "      <td>32.69</td>\n",
       "      <td>40.0</td>\n",
       "      <td>2236.0</td>\n",
       "      <td>331.0</td>\n",
       "      <td>767.0</td>\n",
       "      <td>316.0</td>\n",
       "      <td>5.3177</td>\n",
       "    </tr>\n",
       "    <tr>\n",
       "      <th>12507</th>\n",
       "      <td>-117.94</td>\n",
       "      <td>33.84</td>\n",
       "      <td>28.0</td>\n",
       "      <td>604.0</td>\n",
       "      <td>207.0</td>\n",
       "      <td>615.0</td>\n",
       "      <td>212.0</td>\n",
       "      <td>3.6214</td>\n",
       "    </tr>\n",
       "    <tr>\n",
       "      <th>12829</th>\n",
       "      <td>-117.10</td>\n",
       "      <td>32.90</td>\n",
       "      <td>16.0</td>\n",
       "      <td>2994.0</td>\n",
       "      <td>445.0</td>\n",
       "      <td>1047.0</td>\n",
       "      <td>437.0</td>\n",
       "      <td>5.1490</td>\n",
       "    </tr>\n",
       "    <tr>\n",
       "      <th>259</th>\n",
       "      <td>-117.96</td>\n",
       "      <td>33.86</td>\n",
       "      <td>32.0</td>\n",
       "      <td>2366.0</td>\n",
       "      <td>505.0</td>\n",
       "      <td>1283.0</td>\n",
       "      <td>477.0</td>\n",
       "      <td>3.3516</td>\n",
       "    </tr>\n",
       "  </tbody>\n",
       "</table>\n",
       "</div>"
      ],
      "text/plain": [
       "       longitude  latitude  housing_median_age  total_rooms  total_bedrooms  \\\n",
       "7074     -122.06     37.34                20.0       3435.0           593.0   \n",
       "12812    -117.17     32.69                40.0       2236.0           331.0   \n",
       "12507    -117.94     33.84                28.0        604.0           207.0   \n",
       "12829    -117.10     32.90                16.0       2994.0           445.0   \n",
       "259      -117.96     33.86                32.0       2366.0           505.0   \n",
       "\n",
       "       population  households  median_income  \n",
       "7074       1293.0       553.0         6.7578  \n",
       "12812       767.0       316.0         5.3177  \n",
       "12507       615.0       212.0         3.6214  \n",
       "12829      1047.0       437.0         5.1490  \n",
       "259        1283.0       477.0         3.3516  "
      ]
     },
     "execution_count": 43,
     "metadata": {},
     "output_type": "execute_result"
    }
   ],
   "source": [
    "train_tr.head()"
   ]
  },
  {
   "cell_type": "markdown",
   "id": "8d98e34f",
   "metadata": {},
   "source": [
    "# Handeling text and attributes\n",
    "\n",
    "Since the algortihms prefer to work with numbers, we convert the categories from text to numbers."
   ]
  },
  {
   "cell_type": "code",
   "execution_count": 44,
   "id": "1e603862",
   "metadata": {},
   "outputs": [
    {
     "data": {
      "text/html": [
       "<div>\n",
       "<style scoped>\n",
       "    .dataframe tbody tr th:only-of-type {\n",
       "        vertical-align: middle;\n",
       "    }\n",
       "\n",
       "    .dataframe tbody tr th {\n",
       "        vertical-align: top;\n",
       "    }\n",
       "\n",
       "    .dataframe thead th {\n",
       "        text-align: right;\n",
       "    }\n",
       "</style>\n",
       "<table border=\"1\" class=\"dataframe\">\n",
       "  <thead>\n",
       "    <tr style=\"text-align: right;\">\n",
       "      <th></th>\n",
       "      <th>ocean_proximity</th>\n",
       "    </tr>\n",
       "  </thead>\n",
       "  <tbody>\n",
       "    <tr>\n",
       "      <th>7074</th>\n",
       "      <td>&lt;1H OCEAN</td>\n",
       "    </tr>\n",
       "    <tr>\n",
       "      <th>12812</th>\n",
       "      <td>NEAR OCEAN</td>\n",
       "    </tr>\n",
       "    <tr>\n",
       "      <th>12507</th>\n",
       "      <td>&lt;1H OCEAN</td>\n",
       "    </tr>\n",
       "    <tr>\n",
       "      <th>12829</th>\n",
       "      <td>&lt;1H OCEAN</td>\n",
       "    </tr>\n",
       "    <tr>\n",
       "      <th>259</th>\n",
       "      <td>&lt;1H OCEAN</td>\n",
       "    </tr>\n",
       "    <tr>\n",
       "      <th>2920</th>\n",
       "      <td>INLAND</td>\n",
       "    </tr>\n",
       "    <tr>\n",
       "      <th>9634</th>\n",
       "      <td>&lt;1H OCEAN</td>\n",
       "    </tr>\n",
       "    <tr>\n",
       "      <th>16344</th>\n",
       "      <td>&lt;1H OCEAN</td>\n",
       "    </tr>\n",
       "    <tr>\n",
       "      <th>12574</th>\n",
       "      <td>&lt;1H OCEAN</td>\n",
       "    </tr>\n",
       "    <tr>\n",
       "      <th>10829</th>\n",
       "      <td>INLAND</td>\n",
       "    </tr>\n",
       "  </tbody>\n",
       "</table>\n",
       "</div>"
      ],
      "text/plain": [
       "      ocean_proximity\n",
       "7074        <1H OCEAN\n",
       "12812      NEAR OCEAN\n",
       "12507       <1H OCEAN\n",
       "12829       <1H OCEAN\n",
       "259         <1H OCEAN\n",
       "2920           INLAND\n",
       "9634        <1H OCEAN\n",
       "16344       <1H OCEAN\n",
       "12574       <1H OCEAN\n",
       "10829          INLAND"
      ]
     },
     "execution_count": 44,
     "metadata": {},
     "output_type": "execute_result"
    }
   ],
   "source": [
    "train_cat = train[[\"ocean_proximity\"]]\n",
    "train_cat.head(10)"
   ]
  },
  {
   "cell_type": "code",
   "execution_count": 45,
   "id": "1eadf630",
   "metadata": {},
   "outputs": [
    {
     "data": {
      "text/plain": [
       "array([[0.],\n",
       "       [4.],\n",
       "       [0.],\n",
       "       [0.],\n",
       "       [0.],\n",
       "       [1.],\n",
       "       [0.],\n",
       "       [0.],\n",
       "       [0.],\n",
       "       [1.]])"
      ]
     },
     "execution_count": 45,
     "metadata": {},
     "output_type": "execute_result"
    }
   ],
   "source": [
    "from sklearn.preprocessing import OrdinalEncoder\n",
    "ordinal_encoder = OrdinalEncoder()\n",
    "train_cat_encoded = ordinal_encoder.fit_transform(train_cat)\n",
    "train_cat_encoded[:10]"
   ]
  },
  {
   "cell_type": "code",
   "execution_count": 46,
   "id": "f51f24ab",
   "metadata": {},
   "outputs": [
    {
     "data": {
      "text/plain": [
       "[array(['<1H OCEAN', 'INLAND', 'ISLAND', 'NEAR BAY', 'NEAR OCEAN'],\n",
       "       dtype=object)]"
      ]
     },
     "execution_count": 46,
     "metadata": {},
     "output_type": "execute_result"
    }
   ],
   "source": [
    "ordinal_encoder.categories_"
   ]
  },
  {
   "cell_type": "code",
   "execution_count": 47,
   "id": "c5292b10",
   "metadata": {},
   "outputs": [
    {
     "data": {
      "text/plain": [
       "<13209x5 sparse matrix of type '<class 'numpy.float64'>'\n",
       "\twith 13209 stored elements in Compressed Sparse Row format>"
      ]
     },
     "execution_count": 47,
     "metadata": {},
     "output_type": "execute_result"
    }
   ],
   "source": [
    "from sklearn.preprocessing import OneHotEncoder\n",
    "cat_encoder = OneHotEncoder()\n",
    "train_cat_1hot = cat_encoder.fit_transform(train_cat) \n",
    "train_cat_1hot"
   ]
  },
  {
   "cell_type": "code",
   "execution_count": 48,
   "id": "d262920c",
   "metadata": {},
   "outputs": [
    {
     "data": {
      "text/plain": [
       "array([[1., 0., 0., 0., 0.],\n",
       "       [0., 0., 0., 0., 1.],\n",
       "       [1., 0., 0., 0., 0.],\n",
       "       ...,\n",
       "       [0., 1., 0., 0., 0.],\n",
       "       [1., 0., 0., 0., 0.],\n",
       "       [0., 0., 0., 0., 1.]])"
      ]
     },
     "execution_count": 48,
     "metadata": {},
     "output_type": "execute_result"
    }
   ],
   "source": [
    "train_cat_1hot.toarray()"
   ]
  },
  {
   "cell_type": "code",
   "execution_count": 49,
   "id": "66c244f3",
   "metadata": {},
   "outputs": [
    {
     "data": {
      "text/plain": [
       "[array(['<1H OCEAN', 'INLAND', 'ISLAND', 'NEAR BAY', 'NEAR OCEAN'],\n",
       "       dtype=object)]"
      ]
     },
     "execution_count": 49,
     "metadata": {},
     "output_type": "execute_result"
    }
   ],
   "source": [
    "cat_encoder.categories_"
   ]
  },
  {
   "cell_type": "markdown",
   "id": "afc89c8a",
   "metadata": {},
   "source": [
    "# transformer"
   ]
  },
  {
   "cell_type": "code",
   "execution_count": 50,
   "id": "43894cd4",
   "metadata": {},
   "outputs": [],
   "source": [
    "from sklearn.base import BaseEstimator, TransformerMixin\n",
    "col_names = \"total_rooms\", \"total_bedrooms\", \"population\", \"households\"\n",
    "rooms_ix, bedrooms_ix, population_ix, households_ix = [train.columns.get_loc(c) for c in col_names]\n",
    "class CombinedAttributesAdder(BaseEstimator, TransformerMixin):\n",
    "    def __init__(self, add_bedrooms_per_room = True): # no *args or **kargs\n",
    "        self.add_bedrooms_per_room = add_bedrooms_per_room \n",
    "    def fit(self, X, y=None):\n",
    "        return self # nothing else to do \n",
    "    def transform(self, X, y=None):\n",
    "        rooms_per_household = X[:, rooms_ix] / X[:, households_ix] \n",
    "        population_per_household = X[:, population_ix] / X[:, households_ix] \n",
    "        if self.add_bedrooms_per_room:\n",
    "            bedrooms_per_room = X[:, bedrooms_ix] / X[:, rooms_ix]\n",
    "            return np.c_[X, rooms_per_household, population_per_household, bedrooms_per_room]\n",
    "        else:\n",
    "            return np.c_[X, rooms_per_household, population_per_household]\n",
    "\n",
    "\n",
    "attr_adder = CombinedAttributesAdder(add_bedrooms_per_room=False)\n",
    "train_extra_attribs = attr_adder.transform(train.values)"
   ]
  },
  {
   "cell_type": "code",
   "execution_count": 51,
   "id": "c7bc91fc",
   "metadata": {},
   "outputs": [
    {
     "data": {
      "text/html": [
       "<div>\n",
       "<style scoped>\n",
       "    .dataframe tbody tr th:only-of-type {\n",
       "        vertical-align: middle;\n",
       "    }\n",
       "\n",
       "    .dataframe tbody tr th {\n",
       "        vertical-align: top;\n",
       "    }\n",
       "\n",
       "    .dataframe thead th {\n",
       "        text-align: right;\n",
       "    }\n",
       "</style>\n",
       "<table border=\"1\" class=\"dataframe\">\n",
       "  <thead>\n",
       "    <tr style=\"text-align: right;\">\n",
       "      <th></th>\n",
       "      <th>longitude</th>\n",
       "      <th>latitude</th>\n",
       "      <th>housing_median_age</th>\n",
       "      <th>total_rooms</th>\n",
       "      <th>total_bedrooms</th>\n",
       "      <th>population</th>\n",
       "      <th>households</th>\n",
       "      <th>median_income</th>\n",
       "      <th>ocean_proximity</th>\n",
       "      <th>rooms_per_household</th>\n",
       "      <th>bedrooms_per_room</th>\n",
       "    </tr>\n",
       "  </thead>\n",
       "  <tbody>\n",
       "    <tr>\n",
       "      <th>7074</th>\n",
       "      <td>-122.06</td>\n",
       "      <td>37.34</td>\n",
       "      <td>20.0</td>\n",
       "      <td>3435.0</td>\n",
       "      <td>593.0</td>\n",
       "      <td>1293.0</td>\n",
       "      <td>553.0</td>\n",
       "      <td>6.7578</td>\n",
       "      <td>&lt;1H OCEAN</td>\n",
       "      <td>6.211573</td>\n",
       "      <td>2.338156</td>\n",
       "    </tr>\n",
       "    <tr>\n",
       "      <th>12812</th>\n",
       "      <td>-117.17</td>\n",
       "      <td>32.69</td>\n",
       "      <td>40.0</td>\n",
       "      <td>2236.0</td>\n",
       "      <td>331.0</td>\n",
       "      <td>767.0</td>\n",
       "      <td>316.0</td>\n",
       "      <td>5.3177</td>\n",
       "      <td>NEAR OCEAN</td>\n",
       "      <td>7.075949</td>\n",
       "      <td>2.427215</td>\n",
       "    </tr>\n",
       "    <tr>\n",
       "      <th>12507</th>\n",
       "      <td>-117.94</td>\n",
       "      <td>33.84</td>\n",
       "      <td>28.0</td>\n",
       "      <td>604.0</td>\n",
       "      <td>207.0</td>\n",
       "      <td>615.0</td>\n",
       "      <td>212.0</td>\n",
       "      <td>3.6214</td>\n",
       "      <td>&lt;1H OCEAN</td>\n",
       "      <td>2.849057</td>\n",
       "      <td>2.900943</td>\n",
       "    </tr>\n",
       "    <tr>\n",
       "      <th>12829</th>\n",
       "      <td>-117.1</td>\n",
       "      <td>32.9</td>\n",
       "      <td>16.0</td>\n",
       "      <td>2994.0</td>\n",
       "      <td>445.0</td>\n",
       "      <td>1047.0</td>\n",
       "      <td>437.0</td>\n",
       "      <td>5.149</td>\n",
       "      <td>&lt;1H OCEAN</td>\n",
       "      <td>6.851259</td>\n",
       "      <td>2.395881</td>\n",
       "    </tr>\n",
       "    <tr>\n",
       "      <th>259</th>\n",
       "      <td>-117.96</td>\n",
       "      <td>33.86</td>\n",
       "      <td>32.0</td>\n",
       "      <td>2366.0</td>\n",
       "      <td>505.0</td>\n",
       "      <td>1283.0</td>\n",
       "      <td>477.0</td>\n",
       "      <td>3.3516</td>\n",
       "      <td>&lt;1H OCEAN</td>\n",
       "      <td>4.960168</td>\n",
       "      <td>2.689727</td>\n",
       "    </tr>\n",
       "  </tbody>\n",
       "</table>\n",
       "</div>"
      ],
      "text/plain": [
       "      longitude latitude housing_median_age total_rooms total_bedrooms  \\\n",
       "7074    -122.06    37.34               20.0      3435.0          593.0   \n",
       "12812   -117.17    32.69               40.0      2236.0          331.0   \n",
       "12507   -117.94    33.84               28.0       604.0          207.0   \n",
       "12829    -117.1     32.9               16.0      2994.0          445.0   \n",
       "259     -117.96    33.86               32.0      2366.0          505.0   \n",
       "\n",
       "      population households median_income ocean_proximity rooms_per_household  \\\n",
       "7074      1293.0      553.0        6.7578       <1H OCEAN            6.211573   \n",
       "12812      767.0      316.0        5.3177      NEAR OCEAN            7.075949   \n",
       "12507      615.0      212.0        3.6214       <1H OCEAN            2.849057   \n",
       "12829     1047.0      437.0         5.149       <1H OCEAN            6.851259   \n",
       "259       1283.0      477.0        3.3516       <1H OCEAN            4.960168   \n",
       "\n",
       "      bedrooms_per_room  \n",
       "7074           2.338156  \n",
       "12812          2.427215  \n",
       "12507          2.900943  \n",
       "12829          2.395881  \n",
       "259            2.689727  "
      ]
     },
     "execution_count": 51,
     "metadata": {},
     "output_type": "execute_result"
    }
   ],
   "source": [
    "train_extra_attribs = pd.DataFrame(\n",
    "    train_extra_attribs,\n",
    "    columns=list(train.columns)+[\"rooms_per_household\",\"bedrooms_per_room\"],\n",
    "    index=train.index)\n",
    "train_extra_attribs.head()"
   ]
  },
  {
   "cell_type": "markdown",
   "id": "03a40cc1",
   "metadata": {},
   "source": [
    "# Transformation pipeline\n",
    "As there is alot of data that needs to be executed in the right order, the pipeline will help us do that."
   ]
  },
  {
   "cell_type": "code",
   "execution_count": 52,
   "id": "03300336",
   "metadata": {},
   "outputs": [],
   "source": [
    "from sklearn.pipeline import Pipeline\n",
    "from sklearn.preprocessing import StandardScaler\n",
    "num_pipeline = Pipeline([\n",
    "        ('imputer', SimpleImputer(strategy=\"median\")),\n",
    "        ('attribs_adder', CombinedAttributesAdder()),\n",
    "        ('std_scaler', StandardScaler()),\n",
    "    ])\n",
    "train_num_tr = num_pipeline.fit_transform(train_num)"
   ]
  },
  {
   "cell_type": "code",
   "execution_count": 53,
   "id": "76e8262d",
   "metadata": {},
   "outputs": [],
   "source": [
    "from sklearn.compose import ColumnTransformer \n",
    "num_attribs = list(train_num)\n",
    "cat_attribs = [\"ocean_proximity\"]\n",
    "full_pipeline = ColumnTransformer([\n",
    "        (\"num\", num_pipeline, num_attribs),\n",
    "        (\"cat\", OneHotEncoder(), cat_attribs),\n",
    "    ])\n",
    "train_prepared = full_pipeline.fit_transform(train)"
   ]
  },
  {
   "cell_type": "code",
   "execution_count": 54,
   "id": "9ebebedf",
   "metadata": {},
   "outputs": [
    {
     "data": {
      "text/plain": [
       "(13209, 16)"
      ]
     },
     "execution_count": 54,
     "metadata": {},
     "output_type": "execute_result"
    }
   ],
   "source": [
    "train_prepared.shape"
   ]
  },
  {
   "cell_type": "markdown",
   "id": "ad91d6ce",
   "metadata": {},
   "source": [
    "# Training\n",
    "\n",
    "We are now ready to select and train a model.\n",
    "\n",
    "We start with regression model:"
   ]
  },
  {
   "cell_type": "code",
   "execution_count": 55,
   "id": "5679083e",
   "metadata": {},
   "outputs": [
    {
     "data": {
      "text/plain": [
       "LinearRegression()"
      ]
     },
     "execution_count": 55,
     "metadata": {},
     "output_type": "execute_result"
    }
   ],
   "source": [
    "from sklearn.linear_model import LinearRegression \n",
    "lin_reg = LinearRegression()\n",
    "lin_reg.fit(train_prepared, train_labels)"
   ]
  },
  {
   "cell_type": "code",
   "execution_count": 56,
   "id": "93d4a61d",
   "metadata": {},
   "outputs": [
    {
     "name": "stdout",
     "output_type": "stream",
     "text": [
      "Predictions: [354023.03505944 301028.05279643 214820.71184147 261213.26203194\n",
      " 206786.5494853 ]\n",
      "Labels: [451400.0, 500001.0, 182100.0, 184300.0, 190000.0]\n"
     ]
    }
   ],
   "source": [
    "some_data = train.iloc[:5]\n",
    "some_labels = train_labels.iloc[:5]\n",
    "some_data_prepared = full_pipeline.transform(some_data)\n",
    "print(\"Predictions:\", lin_reg.predict(some_data_prepared))\n",
    "print(\"Labels:\", list(some_labels))"
   ]
  },
  {
   "cell_type": "code",
   "execution_count": 57,
   "id": "e27620bf",
   "metadata": {},
   "outputs": [
    {
     "data": {
      "text/plain": [
       "69393.78864062681"
      ]
     },
     "execution_count": 57,
     "metadata": {},
     "output_type": "execute_result"
    }
   ],
   "source": [
    "from sklearn.metrics import mean_squared_error\n",
    "train_predictions = lin_reg.predict(train_prepared)\n",
    "lin_mse = mean_squared_error(train_labels, train_predictions)\n",
    "lin_rmse = np.sqrt(lin_mse)\n",
    "lin_rmse"
   ]
  },
  {
   "cell_type": "code",
   "execution_count": 58,
   "id": "99124bda",
   "metadata": {},
   "outputs": [
    {
     "data": {
      "text/plain": [
       "50136.36823699895"
      ]
     },
     "execution_count": 58,
     "metadata": {},
     "output_type": "execute_result"
    }
   ],
   "source": [
    "from sklearn.metrics import mean_absolute_error\n",
    "lin_mae = mean_absolute_error(train_labels, train_predictions)\n",
    "lin_mae"
   ]
  },
  {
   "cell_type": "markdown",
   "id": "003d47e5",
   "metadata": {},
   "source": [
    "Since the mean and absolute error of linear regresson model on the higher end, we have decided to try another model."
   ]
  },
  {
   "cell_type": "markdown",
   "id": "c3f0bc03",
   "metadata": {},
   "source": [
    "# Decision tree regressor\n",
    "We have decided to try decision tree regressor model."
   ]
  },
  {
   "cell_type": "code",
   "execution_count": 59,
   "id": "21b3649c",
   "metadata": {},
   "outputs": [
    {
     "data": {
      "text/plain": [
       "DecisionTreeRegressor(random_state=69)"
      ]
     },
     "execution_count": 59,
     "metadata": {},
     "output_type": "execute_result"
    }
   ],
   "source": [
    "from sklearn.tree import DecisionTreeRegressor \n",
    "tree_reg = DecisionTreeRegressor(random_state=69)\n",
    "tree_reg.fit(train_prepared, train_labels)"
   ]
  },
  {
   "cell_type": "code",
   "execution_count": 60,
   "id": "c3ce13a2",
   "metadata": {},
   "outputs": [
    {
     "data": {
      "text/plain": [
       "0.0"
      ]
     },
     "execution_count": 60,
     "metadata": {},
     "output_type": "execute_result"
    }
   ],
   "source": [
    "train_predictions = tree_reg.predict(train_prepared)\n",
    "tree_mse = mean_squared_error(train_labels, train_predictions)\n",
    "tree_rmse = np.sqrt(tree_mse)\n",
    "tree_rmse"
   ]
  },
  {
   "cell_type": "markdown",
   "id": "8569e33b",
   "metadata": {},
   "source": [
    "This tree_rmse returns a 0.0 error. We can assume that this is false, due to the model having badly overfitted data."
   ]
  },
  {
   "cell_type": "markdown",
   "id": "e4cb20d1",
   "metadata": {},
   "source": [
    "# Evaluation\n",
    "we use K-fold cross-validation from \"scikit-learn\" to train and evaluate the models. Here we split the training_set randomly into 10 distinct folds."
   ]
  },
  {
   "cell_type": "code",
   "execution_count": 61,
   "id": "5ef75a93",
   "metadata": {},
   "outputs": [],
   "source": [
    "from sklearn.model_selection import cross_val_score\n",
    "scores = cross_val_score(tree_reg, train_prepared, train_labels, scoring=\"neg_mean_squared_error\", cv=10)\n",
    "tree_rmse_scores = np.sqrt(-scores)"
   ]
  },
  {
   "cell_type": "code",
   "execution_count": 62,
   "id": "7154f38f",
   "metadata": {},
   "outputs": [
    {
     "name": "stdout",
     "output_type": "stream",
     "text": [
      "Scores: [71098.68290419 72693.84524994 71798.41647955 70435.29539007\n",
      " 74538.27188239 66617.24371862 70075.9352264  74633.99258239\n",
      " 72921.90046129 73709.28685807]\n",
      "Mean: 71852.28707529083\n",
      "Standard deviation: 2310.691078950148\n"
     ]
    }
   ],
   "source": [
    "def display_scores(scores):\n",
    "    print(\"Scores:\", scores)\n",
    "    print(\"Mean:\", scores.mean())\n",
    "    print(\"Standard deviation:\", scores.std())\n",
    "display_scores(tree_rmse_scores)"
   ]
  },
  {
   "cell_type": "code",
   "execution_count": 63,
   "id": "788fc25f",
   "metadata": {},
   "outputs": [
    {
     "name": "stdout",
     "output_type": "stream",
     "text": [
      "Scores: [67403.0972991  74531.09209353 75602.7131383  72486.57487466\n",
      " 69767.0917115  63416.80594268 69251.79448572 69558.45894281\n",
      " 70214.4802599  70515.30985359]\n",
      "Mean: 70274.74186017932\n",
      "Standard deviation: 3294.727966146717\n"
     ]
    }
   ],
   "source": [
    "lin_scores = cross_val_score(lin_reg, train_prepared, train_labels,\n",
    "scoring=\"neg_mean_squared_error\", cv=10)\n",
    "lin_rmse_scores = np.sqrt(-lin_scores)\n",
    "display_scores(lin_rmse_scores)"
   ]
  },
  {
   "cell_type": "code",
   "execution_count": 64,
   "id": "f36ec83f",
   "metadata": {},
   "outputs": [
    {
     "data": {
      "text/plain": [
       "19217.88314151323"
      ]
     },
     "execution_count": 64,
     "metadata": {},
     "output_type": "execute_result"
    }
   ],
   "source": [
    "from sklearn.ensemble import RandomForestRegressor\n",
    "forest_reg = RandomForestRegressor()\n",
    "forest_reg.fit(train_prepared, train_labels)\n",
    "train_predictions = forest_reg.predict(train_prepared)\n",
    "forest_mse = mean_squared_error(train_labels, train_predictions)\n",
    "forest_rmse = np.sqrt(forest_mse)\n",
    "forest_rmse"
   ]
  },
  {
   "cell_type": "code",
   "execution_count": 65,
   "id": "333400f7",
   "metadata": {},
   "outputs": [
    {
     "name": "stdout",
     "output_type": "stream",
     "text": [
      "Scores: [50068.73651097 53570.2006457  51366.4872056  52047.26299532\n",
      " 53770.29379871 48392.88426233 51206.84650127 51550.65450383\n",
      " 54487.60578847 49576.16079357]\n",
      "Mean: 51603.713300577365\n",
      "Standard deviation: 1845.747991614248\n"
     ]
    }
   ],
   "source": [
    "from sklearn.model_selection import cross_val_score\n",
    "\n",
    "forest_scores = cross_val_score(forest_reg, train_prepared, train_labels, scoring='neg_mean_squared_error', cv=10)\n",
    "forest_rmse_scores = np.sqrt(-forest_scores)\n",
    "display_scores(forest_rmse_scores)"
   ]
  },
  {
   "cell_type": "markdown",
   "id": "39e19454",
   "metadata": {},
   "source": [
    "We see from the standard deveation from each model, that the forest_rmse is the best model, and therefore we will use it."
   ]
  },
  {
   "cell_type": "markdown",
   "id": "6eb73b5e",
   "metadata": {},
   "source": [
    "# Fine tuning\n",
    "since the forest_tree is the best model, we will fine-tune this using gridsearch and randomized search."
   ]
  },
  {
   "cell_type": "markdown",
   "id": "5948b9fb",
   "metadata": {},
   "source": [
    "# Grid search\n",
    "The grid search uses hyperparamters to find great combinations of hyperparameter values."
   ]
  },
  {
   "cell_type": "code",
   "execution_count": 66,
   "id": "2d1fdbaf",
   "metadata": {},
   "outputs": [
    {
     "data": {
      "text/plain": [
       "GridSearchCV(cv=5, estimator=RandomForestRegressor(),\n",
       "             param_grid=[{'max_features': [2, 4, 6, 8],\n",
       "                          'n_estimators': [3, 10, 30]},\n",
       "                         {'bootstrap': [False], 'max_features': [2, 3, 4],\n",
       "                          'n_estimators': [3, 10]}],\n",
       "             return_train_score=True, scoring='neg_mean_squared_error')"
      ]
     },
     "execution_count": 66,
     "metadata": {},
     "output_type": "execute_result"
    }
   ],
   "source": [
    "from sklearn.model_selection import GridSearchCV\n",
    "param_grid = [\n",
    "    {'n_estimators': [3, 10, 30], 'max_features': [2, 4, 6, 8]},\n",
    "    {'bootstrap': [False], 'n_estimators': [3, 10], 'max_features': [2, 3, 4]},\n",
    "]\n",
    "forest_reg = RandomForestRegressor()\n",
    "grid_search = GridSearchCV(forest_reg, param_grid, cv=5, \n",
    "                           scoring='neg_mean_squared_error', \n",
    "                           return_train_score=True)\n",
    "grid_search.fit(train_prepared, train_labels)"
   ]
  },
  {
   "cell_type": "code",
   "execution_count": 67,
   "id": "e442f55f",
   "metadata": {},
   "outputs": [
    {
     "data": {
      "text/plain": [
       "{'max_features': 6, 'n_estimators': 30}"
      ]
     },
     "execution_count": 67,
     "metadata": {},
     "output_type": "execute_result"
    }
   ],
   "source": [
    "grid_search.best_params_"
   ]
  },
  {
   "cell_type": "code",
   "execution_count": 68,
   "id": "ffb60513",
   "metadata": {},
   "outputs": [
    {
     "data": {
      "text/plain": [
       "RandomForestRegressor(max_features=6, n_estimators=30)"
      ]
     },
     "execution_count": 68,
     "metadata": {},
     "output_type": "execute_result"
    }
   ],
   "source": [
    "grid_search.best_estimator_"
   ]
  },
  {
   "cell_type": "code",
   "execution_count": 69,
   "id": "3ce4b1e1",
   "metadata": {},
   "outputs": [
    {
     "name": "stdout",
     "output_type": "stream",
     "text": [
      "65236.64392118972 {'max_features': 2, 'n_estimators': 3}\n",
      "56488.45567752215 {'max_features': 2, 'n_estimators': 10}\n",
      "54413.97290551068 {'max_features': 2, 'n_estimators': 30}\n",
      "61533.75918226835 {'max_features': 4, 'n_estimators': 3}\n",
      "54137.51108913587 {'max_features': 4, 'n_estimators': 10}\n",
      "51807.72222490709 {'max_features': 4, 'n_estimators': 30}\n",
      "61903.923048763085 {'max_features': 6, 'n_estimators': 3}\n",
      "53438.70508441714 {'max_features': 6, 'n_estimators': 10}\n",
      "51217.429991415745 {'max_features': 6, 'n_estimators': 30}\n",
      "60105.18609345044 {'max_features': 8, 'n_estimators': 3}\n",
      "53093.604897834346 {'max_features': 8, 'n_estimators': 10}\n",
      "51554.924240646375 {'max_features': 8, 'n_estimators': 30}\n",
      "63703.359940487215 {'bootstrap': False, 'max_features': 2, 'n_estimators': 3}\n",
      "55871.85505927471 {'bootstrap': False, 'max_features': 2, 'n_estimators': 10}\n",
      "61956.38991760604 {'bootstrap': False, 'max_features': 3, 'n_estimators': 3}\n",
      "53664.027853598316 {'bootstrap': False, 'max_features': 3, 'n_estimators': 10}\n",
      "59096.97900684739 {'bootstrap': False, 'max_features': 4, 'n_estimators': 3}\n",
      "52830.9411160373 {'bootstrap': False, 'max_features': 4, 'n_estimators': 10}\n"
     ]
    }
   ],
   "source": [
    "cvres = grid_search.cv_results_\n",
    "for mean_score, params in zip(cvres[\"mean_test_score\"], cvres[\"params\"]):\n",
    "    print(np.sqrt(-mean_score), params)"
   ]
  },
  {
   "cell_type": "markdown",
   "id": "fbbbb61a",
   "metadata": {},
   "source": [
    "The result of finetuning the model, is that it is somewhat better than before."
   ]
  },
  {
   "cell_type": "markdown",
   "id": "72c141e7",
   "metadata": {},
   "source": [
    "# randomized search\n",
    "Instead of trying out all combinations, like the Grid search, this class evaluates a given number of random combinations. It does this by selecting a random value for a hyperparameter for each iteration."
   ]
  },
  {
   "cell_type": "code",
   "execution_count": 70,
   "id": "5daea2d2",
   "metadata": {},
   "outputs": [
    {
     "data": {
      "text/plain": [
       "RandomizedSearchCV(cv=5, estimator=RandomForestRegressor(random_state=69),\n",
       "                   param_distributions={'max_features': <scipy.stats._distn_infrastructure.rv_frozen object at 0x11df10790>,\n",
       "                                        'n_estimators': <scipy.stats._distn_infrastructure.rv_frozen object at 0x120c163a0>},\n",
       "                   random_state=69, scoring='neg_mean_squared_error')"
      ]
     },
     "execution_count": 70,
     "metadata": {},
     "output_type": "execute_result"
    }
   ],
   "source": [
    "from sklearn.model_selection import RandomizedSearchCV\n",
    "from scipy.stats import randint\n",
    "\n",
    "param_distribs = {\n",
    "        'n_estimators': randint(low=1, high=200),\n",
    "        'max_features': randint(low=1, high=8),\n",
    "    }\n",
    "\n",
    "forest_reg = RandomForestRegressor(random_state=69)\n",
    "\n",
    "rnd_search = RandomizedSearchCV(\n",
    "                forest_reg, \n",
    "                param_distributions=param_distribs,\n",
    "                n_iter=10, \n",
    "                cv=5, \n",
    "                scoring='neg_mean_squared_error', \n",
    "                random_state=69\n",
    "            )\n",
    "\n",
    "rnd_search.fit(train_prepared, train_labels)"
   ]
  },
  {
   "cell_type": "code",
   "execution_count": 71,
   "id": "f7f94a68",
   "metadata": {},
   "outputs": [
    {
     "name": "stdout",
     "output_type": "stream",
     "text": [
      "50750.98454083019 {'max_features': 7, 'n_estimators': 108}\n",
      "51263.71875836594 {'max_features': 3, 'n_estimators': 184}\n",
      "51379.44422730432 {'max_features': 5, 'n_estimators': 50}\n",
      "54228.488234477925 {'max_features': 7, 'n_estimators': 10}\n",
      "56294.27574064713 {'max_features': 1, 'n_estimators': 39}\n",
      "55719.4163500598 {'max_features': 1, 'n_estimators': 89}\n",
      "50495.240046024854 {'max_features': 5, 'n_estimators': 166}\n",
      "51544.42628864093 {'max_features': 3, 'n_estimators': 76}\n",
      "58556.93187461062 {'max_features': 6, 'n_estimators': 4}\n",
      "55561.098425689815 {'max_features': 1, 'n_estimators': 168}\n"
     ]
    }
   ],
   "source": [
    "cvres = rnd_search.cv_results_\n",
    "for mean_score, params in zip(cvres[\"mean_test_score\"], cvres[\"params\"]):\n",
    "    print(np.sqrt(-mean_score), params)"
   ]
  },
  {
   "cell_type": "code",
   "execution_count": 74,
   "id": "be470cd2",
   "metadata": {},
   "outputs": [
    {
     "data": {
      "text/plain": [
       "array([7.37029289e-02, 6.88461127e-02, 4.45827083e-02, 1.77613600e-02,\n",
       "       1.80232965e-02, 1.84004118e-02, 1.60321027e-02, 3.70518165e-01,\n",
       "       4.70492849e-02, 1.07532157e-01, 7.46177602e-02, 1.09433307e-02,\n",
       "       1.21913511e-01, 2.33506416e-04, 3.82497439e-03, 6.01838944e-03])"
      ]
     },
     "execution_count": 74,
     "metadata": {},
     "output_type": "execute_result"
    }
   ],
   "source": [
    "feature_importances = grid_search.best_estimator_.feature_importances_\n",
    "feature_importances"
   ]
  },
  {
   "cell_type": "code",
   "execution_count": 75,
   "id": "101ecab2",
   "metadata": {},
   "outputs": [
    {
     "data": {
      "text/plain": [
       "[(0.3705181649765292, 'median_income'),\n",
       " (0.12191351095795687, 'INLAND'),\n",
       " (0.10753215721645352, 'pop_per_hhold'),\n",
       " (0.07461776020502767, 'bedrooms_per_room'),\n",
       " (0.07370292891262463, 'longitude'),\n",
       " (0.0688461126512762, 'latitude'),\n",
       " (0.047049284871038016, 'rooms_per_hhold'),\n",
       " (0.04458270826260132, 'housing_median_age'),\n",
       " (0.01840041184844245, 'population'),\n",
       " (0.018023296454284316, 'total_bedrooms'),\n",
       " (0.017761359970380978, 'total_rooms'),\n",
       " (0.016032102728265808, 'households'),\n",
       " (0.01094333070426478, '<1H OCEAN'),\n",
       " (0.006018389439606262, 'NEAR OCEAN'),\n",
       " (0.0038249743856194856, 'NEAR BAY'),\n",
       " (0.00023350641562859154, 'ISLAND')]"
      ]
     },
     "execution_count": 75,
     "metadata": {},
     "output_type": "execute_result"
    }
   ],
   "source": [
    "extra_attribs = [\"rooms_per_hhold\", \"pop_per_hhold\", \"bedrooms_per_room\"]\n",
    "cat_encoder = full_pipeline.named_transformers_[\"cat\"]\n",
    "cat_one_hot_attribs = list(cat_encoder.categories_[0])\n",
    "attributes = num_attribs + extra_attribs + cat_one_hot_attribs\n",
    "sorted(zip(feature_importances, attributes), reverse=True)"
   ]
  },
  {
   "cell_type": "code",
   "execution_count": 76,
   "id": "18000e9e",
   "metadata": {},
   "outputs": [
    {
     "data": {
      "text/plain": [
       "{'max_features': 5, 'n_estimators': 166}"
      ]
     },
     "execution_count": 76,
     "metadata": {},
     "output_type": "execute_result"
    }
   ],
   "source": [
    "rnd_search.best_params_"
   ]
  },
  {
   "cell_type": "markdown",
   "id": "aa07c174",
   "metadata": {},
   "source": [
    "By using these parameters instead we will get a lower RMSE score, and therefore the model is more fine tuned when only using grid search"
   ]
  },
  {
   "cell_type": "markdown",
   "id": "b3553d1a",
   "metadata": {},
   "source": [
    "# Final Model \n",
    "\n",
    "Now its time to evaluate our final model on the test set. Since we got a better result fine tuning our model with finding the best parametersm, we will evaluate again with this."
   ]
  },
  {
   "cell_type": "code",
   "execution_count": 77,
   "id": "8fbcfb42",
   "metadata": {},
   "outputs": [],
   "source": [
    "final_model = rnd_search.best_estimator_\n",
    "X_test = strat_test_set.drop(\"median_house_value\", axis=1)\n",
    "y_test = strat_test_set[\"median_house_value\"].copy()\n",
    "X_test_prepared = full_pipeline.transform(X_test)\n",
    "final_predictions = final_model.predict(X_test_prepared)\n",
    "final_mse = mean_squared_error(y_test, final_predictions)\n",
    "final_rmse = np.sqrt(final_mse)"
   ]
  },
  {
   "cell_type": "code",
   "execution_count": 78,
   "id": "cc5949b1",
   "metadata": {},
   "outputs": [
    {
     "data": {
      "text/plain": [
       "46861.648461494784"
      ]
     },
     "execution_count": 78,
     "metadata": {},
     "output_type": "execute_result"
    }
   ],
   "source": [
    "final_rmse"
   ]
  },
  {
   "cell_type": "code",
   "execution_count": 79,
   "id": "ea99661e",
   "metadata": {},
   "outputs": [
    {
     "data": {
      "text/plain": [
       "0.8306041064727223"
      ]
     },
     "execution_count": 79,
     "metadata": {},
     "output_type": "execute_result"
    }
   ],
   "source": [
    "final_model.score(X_test_prepared, y_test)"
   ]
  },
  {
   "cell_type": "markdown",
   "id": "0abc6028",
   "metadata": {},
   "source": [
    "As we see here, the accuracy of this model is 83.1%"
   ]
  },
  {
   "cell_type": "markdown",
   "id": "8d384765",
   "metadata": {},
   "source": [
    "# submission"
   ]
  },
  {
   "cell_type": "code",
   "execution_count": null,
   "id": "8352144b",
   "metadata": {},
   "outputs": [],
   "source": []
  },
  {
   "cell_type": "code",
   "execution_count": 109,
   "id": "79195003",
   "metadata": {},
   "outputs": [
    {
     "ename": "ValueError",
     "evalue": "X has 10 features, but ColumnTransformer is expecting 9 features as input.",
     "output_type": "error",
     "traceback": [
      "\u001b[0;31m---------------------------------------------------------------------------\u001b[0m",
      "\u001b[0;31mValueError\u001b[0m                                Traceback (most recent call last)",
      "\u001b[0;32m/var/folders/4p/m8t5r46n5r90gckldvz6f8cc0000gn/T/ipykernel_40844/882337093.py\u001b[0m in \u001b[0;36m<module>\u001b[0;34m\u001b[0m\n\u001b[1;32m      1\u001b[0m \u001b[0mfinal_model\u001b[0m \u001b[0;34m=\u001b[0m \u001b[0mrnd_search\u001b[0m\u001b[0;34m.\u001b[0m\u001b[0mbest_estimator_\u001b[0m\u001b[0;34m\u001b[0m\u001b[0;34m\u001b[0m\u001b[0m\n\u001b[0;32m----> 2\u001b[0;31m \u001b[0mtest_prepared\u001b[0m \u001b[0;34m=\u001b[0m \u001b[0mfull_pipeline\u001b[0m\u001b[0;34m.\u001b[0m\u001b[0mtransform\u001b[0m\u001b[0;34m(\u001b[0m\u001b[0mtest\u001b[0m\u001b[0;34m)\u001b[0m\u001b[0;34m\u001b[0m\u001b[0;34m\u001b[0m\u001b[0m\n\u001b[0m\u001b[1;32m      3\u001b[0m \u001b[0mfinal_predictions_S\u001b[0m \u001b[0;34m=\u001b[0m \u001b[0mfinal_model\u001b[0m\u001b[0;34m.\u001b[0m\u001b[0mpredict\u001b[0m\u001b[0;34m(\u001b[0m\u001b[0mtest_prepared\u001b[0m\u001b[0;34m)\u001b[0m\u001b[0;34m\u001b[0m\u001b[0;34m\u001b[0m\u001b[0m\n",
      "\u001b[0;32m~/PycharmProjects/pythonProject/venv/lib/python3.8/site-packages/sklearn/compose/_column_transformer.py\u001b[0m in \u001b[0;36mtransform\u001b[0;34m(self, X)\u001b[0m\n\u001b[1;32m    554\u001b[0m             \u001b[0mX_feature_names\u001b[0m \u001b[0;34m=\u001b[0m \u001b[0;32mNone\u001b[0m\u001b[0;34m\u001b[0m\u001b[0;34m\u001b[0m\u001b[0m\n\u001b[1;32m    555\u001b[0m \u001b[0;34m\u001b[0m\u001b[0m\n\u001b[0;32m--> 556\u001b[0;31m         \u001b[0mself\u001b[0m\u001b[0;34m.\u001b[0m\u001b[0m_check_n_features\u001b[0m\u001b[0;34m(\u001b[0m\u001b[0mX\u001b[0m\u001b[0;34m,\u001b[0m \u001b[0mreset\u001b[0m\u001b[0;34m=\u001b[0m\u001b[0;32mFalse\u001b[0m\u001b[0;34m)\u001b[0m\u001b[0;34m\u001b[0m\u001b[0;34m\u001b[0m\u001b[0m\n\u001b[0m\u001b[1;32m    557\u001b[0m         if (self._feature_names_in is not None and\n\u001b[1;32m    558\u001b[0m             \u001b[0mX_feature_names\u001b[0m \u001b[0;32mis\u001b[0m \u001b[0;32mnot\u001b[0m \u001b[0;32mNone\u001b[0m \u001b[0;32mand\u001b[0m\u001b[0;34m\u001b[0m\u001b[0;34m\u001b[0m\u001b[0m\n",
      "\u001b[0;32m~/PycharmProjects/pythonProject/venv/lib/python3.8/site-packages/sklearn/base.py\u001b[0m in \u001b[0;36m_check_n_features\u001b[0;34m(self, X, reset)\u001b[0m\n\u001b[1;32m    363\u001b[0m \u001b[0;34m\u001b[0m\u001b[0m\n\u001b[1;32m    364\u001b[0m         \u001b[0;32mif\u001b[0m \u001b[0mn_features\u001b[0m \u001b[0;34m!=\u001b[0m \u001b[0mself\u001b[0m\u001b[0;34m.\u001b[0m\u001b[0mn_features_in_\u001b[0m\u001b[0;34m:\u001b[0m\u001b[0;34m\u001b[0m\u001b[0;34m\u001b[0m\u001b[0m\n\u001b[0;32m--> 365\u001b[0;31m             raise ValueError(\n\u001b[0m\u001b[1;32m    366\u001b[0m                 \u001b[0;34mf\"X has {n_features} features, but {self.__class__.__name__} \"\u001b[0m\u001b[0;34m\u001b[0m\u001b[0;34m\u001b[0m\u001b[0m\n\u001b[1;32m    367\u001b[0m                 f\"is expecting {self.n_features_in_} features as input.\")\n",
      "\u001b[0;31mValueError\u001b[0m: X has 10 features, but ColumnTransformer is expecting 9 features as input."
     ]
    }
   ],
   "source": [
    "final_model = rnd_search.best_estimator_\n",
    "test_prepared = full_pipeline.transform(test)\n",
    "final_predictions_S = final_model.predict(test_prepared)"
   ]
  },
  {
   "cell_type": "code",
   "execution_count": 95,
   "id": "c2e216ab",
   "metadata": {},
   "outputs": [],
   "source": [
    "final_predictions_S = [0 for i in test['Id']]"
   ]
  },
  {
   "cell_type": "code",
   "execution_count": 96,
   "id": "66a5dc2f",
   "metadata": {},
   "outputs": [
    {
     "data": {
      "text/plain": [
       "4128"
      ]
     },
     "execution_count": 96,
     "metadata": {},
     "output_type": "execute_result"
    }
   ],
   "source": [
    "len(final_predictions_S)"
   ]
  },
  {
   "cell_type": "code",
   "execution_count": 97,
   "id": "df42e4e3",
   "metadata": {},
   "outputs": [
    {
     "data": {
      "text/plain": [
       "[0, 0, 0, 0, 0, 0, 0, 0, 0, 0]"
      ]
     },
     "execution_count": 97,
     "metadata": {},
     "output_type": "execute_result"
    }
   ],
   "source": [
    "final_predictions[:10]"
   ]
  },
  {
   "cell_type": "code",
   "execution_count": 98,
   "id": "680fc63b",
   "metadata": {},
   "outputs": [],
   "source": [
    "submission = pd.DataFrame({'Id': test['Id'], 'median_house_value': final_predictions})"
   ]
  },
  {
   "cell_type": "code",
   "execution_count": 99,
   "id": "01d83604",
   "metadata": {},
   "outputs": [
    {
     "data": {
      "text/html": [
       "<div>\n",
       "<style scoped>\n",
       "    .dataframe tbody tr th:only-of-type {\n",
       "        vertical-align: middle;\n",
       "    }\n",
       "\n",
       "    .dataframe tbody tr th {\n",
       "        vertical-align: top;\n",
       "    }\n",
       "\n",
       "    .dataframe thead th {\n",
       "        text-align: right;\n",
       "    }\n",
       "</style>\n",
       "<table border=\"1\" class=\"dataframe\">\n",
       "  <thead>\n",
       "    <tr style=\"text-align: right;\">\n",
       "      <th></th>\n",
       "      <th>Id</th>\n",
       "      <th>median_house_value</th>\n",
       "    </tr>\n",
       "  </thead>\n",
       "  <tbody>\n",
       "    <tr>\n",
       "      <th>0</th>\n",
       "      <td>0</td>\n",
       "      <td>0</td>\n",
       "    </tr>\n",
       "    <tr>\n",
       "      <th>1</th>\n",
       "      <td>1</td>\n",
       "      <td>0</td>\n",
       "    </tr>\n",
       "    <tr>\n",
       "      <th>2</th>\n",
       "      <td>2</td>\n",
       "      <td>0</td>\n",
       "    </tr>\n",
       "    <tr>\n",
       "      <th>3</th>\n",
       "      <td>3</td>\n",
       "      <td>0</td>\n",
       "    </tr>\n",
       "    <tr>\n",
       "      <th>4</th>\n",
       "      <td>4</td>\n",
       "      <td>0</td>\n",
       "    </tr>\n",
       "  </tbody>\n",
       "</table>\n",
       "</div>"
      ],
      "text/plain": [
       "   Id  median_house_value\n",
       "0   0                   0\n",
       "1   1                   0\n",
       "2   2                   0\n",
       "3   3                   0\n",
       "4   4                   0"
      ]
     },
     "execution_count": 99,
     "metadata": {},
     "output_type": "execute_result"
    }
   ],
   "source": [
    "submission.head()"
   ]
  },
  {
   "cell_type": "code",
   "execution_count": null,
   "id": "215b29a5",
   "metadata": {},
   "outputs": [],
   "source": []
  }
 ],
 "metadata": {
  "kernelspec": {
   "display_name": "Python 3 (ipykernel)",
   "language": "python",
   "name": "python3"
  },
  "language_info": {
   "codemirror_mode": {
    "name": "ipython",
    "version": 3
   },
   "file_extension": ".py",
   "mimetype": "text/x-python",
   "name": "python",
   "nbconvert_exporter": "python",
   "pygments_lexer": "ipython3",
   "version": "3.8.2"
  }
 },
 "nbformat": 4,
 "nbformat_minor": 5
}
